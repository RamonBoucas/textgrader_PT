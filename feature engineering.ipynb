{
 "cells": [
  {
   "cell_type": "code",
   "execution_count": 43,
   "id": "afdfde71",
   "metadata": {},
   "outputs": [],
   "source": [
    "from textgrader.pipelines.data_processing.config import *\n",
    "import pandas as pd\n",
    "from sklearn.metrics import cohen_kappa_score"
   ]
  },
  {
   "cell_type": "code",
   "execution_count": 49,
   "id": "4909dd05",
   "metadata": {},
   "outputs": [
    {
     "data": {
      "text/html": [
       "<pre style=\"white-space:pre;overflow-x:auto;line-height:normal;font-family:Menlo,'DejaVu Sans Mono',consolas,'Courier New',monospace\"><span style=\"color: #7fbfbf; text-decoration-color: #7fbfbf\">[10/29/23 17:24:07] </span><span style=\"color: #000080; text-decoration-color: #000080\">INFO    </span> Loading data from <span style=\"color: #008000; text-decoration-color: #008000\">'primeira_pred_especifica'</span> <span style=\"font-weight: bold\">(</span>ParquetDataSet<span style=\"font-weight: bold\">)</span><span style=\"color: #808000; text-decoration-color: #808000\">...</span>   <a href=\"file://C:\\Users\\ramon.boucas\\Miniconda3\\lib\\site-packages\\kedro\\io\\data_catalog.py\" target=\"_blank\"><span style=\"color: #7f7f7f; text-decoration-color: #7f7f7f\">data_catalog.py</span></a><span style=\"color: #7f7f7f; text-decoration-color: #7f7f7f\">:</span><a href=\"file://C:\\Users\\ramon.boucas\\Miniconda3\\lib\\site-packages\\kedro\\io\\data_catalog.py#503\" target=\"_blank\"><span style=\"color: #7f7f7f; text-decoration-color: #7f7f7f\">503</span></a>\n",
       "</pre>\n"
      ],
      "text/plain": [
       "\u001b[2;36m[10/29/23 17:24:07]\u001b[0m\u001b[2;36m \u001b[0m\u001b[34mINFO    \u001b[0m Loading data from \u001b[32m'primeira_pred_especifica'\u001b[0m \u001b[1m(\u001b[0mParquetDataSet\u001b[1m)\u001b[0m\u001b[33m...\u001b[0m   \u001b]8;id=700714;file://C:\\Users\\ramon.boucas\\Miniconda3\\lib\\site-packages\\kedro\\io\\data_catalog.py\u001b\\\u001b[2mdata_catalog.py\u001b[0m\u001b]8;;\u001b\\\u001b[2m:\u001b[0m\u001b]8;id=969597;file://C:\\Users\\ramon.boucas\\Miniconda3\\lib\\site-packages\\kedro\\io\\data_catalog.py#503\u001b\\\u001b[2m503\u001b[0m\u001b]8;;\u001b\\\n"
      ]
     },
     "metadata": {},
     "output_type": "display_data"
    },
    {
     "data": {
      "text/html": [
       "<pre style=\"white-space:pre;overflow-x:auto;line-height:normal;font-family:Menlo,'DejaVu Sans Mono',consolas,'Courier New',monospace\"><span style=\"color: #7fbfbf; text-decoration-color: #7fbfbf\">                    </span><span style=\"color: #000080; text-decoration-color: #000080\">INFO    </span> Loading data from <span style=\"color: #008000; text-decoration-color: #008000\">'primeiro_teste'</span> <span style=\"font-weight: bold\">(</span>ParquetDataSet<span style=\"font-weight: bold\">)</span><span style=\"color: #808000; text-decoration-color: #808000\">...</span>             <a href=\"file://C:\\Users\\ramon.boucas\\Miniconda3\\lib\\site-packages\\kedro\\io\\data_catalog.py\" target=\"_blank\"><span style=\"color: #7f7f7f; text-decoration-color: #7f7f7f\">data_catalog.py</span></a><span style=\"color: #7f7f7f; text-decoration-color: #7f7f7f\">:</span><a href=\"file://C:\\Users\\ramon.boucas\\Miniconda3\\lib\\site-packages\\kedro\\io\\data_catalog.py#503\" target=\"_blank\"><span style=\"color: #7f7f7f; text-decoration-color: #7f7f7f\">503</span></a>\n",
       "</pre>\n"
      ],
      "text/plain": [
       "\u001b[2;36m                   \u001b[0m\u001b[2;36m \u001b[0m\u001b[34mINFO    \u001b[0m Loading data from \u001b[32m'primeiro_teste'\u001b[0m \u001b[1m(\u001b[0mParquetDataSet\u001b[1m)\u001b[0m\u001b[33m...\u001b[0m             \u001b]8;id=760101;file://C:\\Users\\ramon.boucas\\Miniconda3\\lib\\site-packages\\kedro\\io\\data_catalog.py\u001b\\\u001b[2mdata_catalog.py\u001b[0m\u001b]8;;\u001b\\\u001b[2m:\u001b[0m\u001b]8;id=297463;file://C:\\Users\\ramon.boucas\\Miniconda3\\lib\\site-packages\\kedro\\io\\data_catalog.py#503\u001b\\\u001b[2m503\u001b[0m\u001b]8;;\u001b\\\n"
      ]
     },
     "metadata": {},
     "output_type": "display_data"
    },
    {
     "data": {
      "text/html": [
       "<pre style=\"white-space:pre;overflow-x:auto;line-height:normal;font-family:Menlo,'DejaVu Sans Mono',consolas,'Courier New',monospace\"></pre>\n"
      ],
      "text/plain": []
     },
     "metadata": {},
     "output_type": "display_data"
    },
    {
     "data": {
      "text/plain": [
       "\n",
       "conceito\n",
       "Compreender a proposta e aplicar conceitos das várias áreas de conhecimento para desenvolver o texto dissertativo-argumentativo em prosa    \u001b[1;36m0.001927\u001b[0m\n",
       "Proposta de intervenção com respeito aos direitos humanos                                                                                   \u001b[1;36m0.000826\u001b[0m\n",
       "Domínio da modalidade escrita formal                                                                                                        \u001b[1;36m0.000335\u001b[0m\n",
       "Conhecimento dos mecanismos linguísticos necessários para a construção da argumentação                                                     \u001b[1;36m-0.000259\u001b[0m\n",
       "Selecionar, relacionar, organizar e interpretar informações em defesa de um ponto de vista                                                 \u001b[1;36m-0.002954\u001b[0m\n",
       "dtype: float64"
      ]
     },
     "execution_count": 49,
     "metadata": {},
     "output_type": "execute_result"
    }
   ],
   "source": [
    "df_pred = catalog.load('primeira_pred_especifica')\n",
    "df_real = catalog.load('primeiro_teste')\n",
    "\n",
    "\n",
    "df_real = df_real[ID_VARS + TARGETS_1]\n",
    "df = pd.merge(df_real,df_pred, on =[ 'index','tema','conjunto'], suffixes = ['_real','_pred'])\n",
    "df = df.melt(id_vars = ['index','tema','conjunto'])\n",
    "df['valor'] = df['variable'].transform(lambda x:x.split('_')[-1])\n",
    "df['conceito'] = df['variable'].transform(lambda x:x.split('_')[0])\n",
    "df = df.drop(columns = 'variable')\n",
    "df = df.set_index(['index','tema','conjunto','conceito','valor']).unstack('valor').reset_index()\n",
    "df.columns = ['index','tema','conjunto','conceito','nota','previsao']\n",
    "df.groupby(['conceito']).apply(lambda x:cohen_kappa_score(x['nota'],x['previsao'])).sort_values(ascending = False)\n"
   ]
  },
  {
   "cell_type": "code",
   "execution_count": 36,
   "id": "156966b4",
   "metadata": {},
   "outputs": [
    {
     "name": "stdout",
     "output_type": "stream",
     "text": [
      "<class 'pandas.core.frame.DataFrame'>\n",
      "RangeIndex: 15240 entries, 0 to 15239\n",
      "Data columns (total 6 columns):\n",
      " #   Column    Non-Null Count  Dtype  \n",
      "---  ------    --------------  -----  \n",
      " 0   index     15240 non-null  int64  \n",
      " 1   tema      15240 non-null  int64  \n",
      " 2   conjunto  15240 non-null  int64  \n",
      " 3   value     15240 non-null  float64\n",
      " 4   valor     15240 non-null  object \n",
      " 5   conceito  15240 non-null  object \n",
      "dtypes: float64(1), int64(3), object(2)\n",
      "memory usage: 714.5+ KB\n"
     ]
    }
   ],
   "source": [
    "df.info()"
   ]
  },
  {
   "cell_type": "code",
   "execution_count": 38,
   "id": "d4b40fd4",
   "metadata": {},
   "outputs": [
    {
     "data": {
      "text/html": [
       "<pre style=\"white-space:pre;overflow-x:auto;line-height:normal;font-family:Menlo,'DejaVu Sans Mono',consolas,'Courier New',monospace\"></pre>\n"
      ],
      "text/plain": []
     },
     "metadata": {},
     "output_type": "display_data"
    },
    {
     "data": {
      "text/html": [
       "<div>\n",
       "<style scoped>\n",
       "    .dataframe tbody tr th:only-of-type {\n",
       "        vertical-align: middle;\n",
       "    }\n",
       "\n",
       "    .dataframe tbody tr th {\n",
       "        vertical-align: top;\n",
       "    }\n",
       "\n",
       "    .dataframe thead th {\n",
       "        text-align: right;\n",
       "    }\n",
       "</style>\n",
       "<table border=\"1\" class=\"dataframe\">\n",
       "  <thead>\n",
       "    <tr style=\"text-align: right;\">\n",
       "      <th></th>\n",
       "      <th>index</th>\n",
       "      <th>tema</th>\n",
       "      <th>conjunto</th>\n",
       "      <th>conceito</th>\n",
       "      <th>valor</th>\n",
       "    </tr>\n",
       "  </thead>\n",
       "  <tbody>\n",
       "    <tr>\n",
       "      <th>0</th>\n",
       "      <td>17</td>\n",
       "      <td>78</td>\n",
       "      <td>1</td>\n",
       "      <td>Domínio da modalidade escrita formal</td>\n",
       "      <td>nota</td>\n",
       "    </tr>\n",
       "    <tr>\n",
       "      <th>1</th>\n",
       "      <td>1</td>\n",
       "      <td>77</td>\n",
       "      <td>1</td>\n",
       "      <td>Domínio da modalidade escrita formal</td>\n",
       "      <td>nota</td>\n",
       "    </tr>\n",
       "    <tr>\n",
       "      <th>2</th>\n",
       "      <td>58</td>\n",
       "      <td>83</td>\n",
       "      <td>1</td>\n",
       "      <td>Domínio da modalidade escrita formal</td>\n",
       "      <td>nota</td>\n",
       "    </tr>\n",
       "    <tr>\n",
       "      <th>3</th>\n",
       "      <td>48</td>\n",
       "      <td>8</td>\n",
       "      <td>1</td>\n",
       "      <td>Domínio da modalidade escrita formal</td>\n",
       "      <td>nota</td>\n",
       "    </tr>\n",
       "    <tr>\n",
       "      <th>4</th>\n",
       "      <td>43</td>\n",
       "      <td>51</td>\n",
       "      <td>1</td>\n",
       "      <td>Domínio da modalidade escrita formal</td>\n",
       "      <td>nota</td>\n",
       "    </tr>\n",
       "    <tr>\n",
       "      <th>...</th>\n",
       "      <td>...</td>\n",
       "      <td>...</td>\n",
       "      <td>...</td>\n",
       "      <td>...</td>\n",
       "      <td>...</td>\n",
       "    </tr>\n",
       "    <tr>\n",
       "      <th>15235</th>\n",
       "      <td>29</td>\n",
       "      <td>65</td>\n",
       "      <td>1</td>\n",
       "      <td>Proposta de intervenção com respeito aos direi...</td>\n",
       "      <td>pred</td>\n",
       "    </tr>\n",
       "    <tr>\n",
       "      <th>15236</th>\n",
       "      <td>15</td>\n",
       "      <td>18</td>\n",
       "      <td>1</td>\n",
       "      <td>Proposta de intervenção com respeito aos direi...</td>\n",
       "      <td>pred</td>\n",
       "    </tr>\n",
       "    <tr>\n",
       "      <th>15237</th>\n",
       "      <td>4</td>\n",
       "      <td>70</td>\n",
       "      <td>1</td>\n",
       "      <td>Proposta de intervenção com respeito aos direi...</td>\n",
       "      <td>pred</td>\n",
       "    </tr>\n",
       "    <tr>\n",
       "      <th>15238</th>\n",
       "      <td>2</td>\n",
       "      <td>69</td>\n",
       "      <td>1</td>\n",
       "      <td>Proposta de intervenção com respeito aos direi...</td>\n",
       "      <td>pred</td>\n",
       "    </tr>\n",
       "    <tr>\n",
       "      <th>15239</th>\n",
       "      <td>33</td>\n",
       "      <td>12</td>\n",
       "      <td>1</td>\n",
       "      <td>Proposta de intervenção com respeito aos direi...</td>\n",
       "      <td>pred</td>\n",
       "    </tr>\n",
       "  </tbody>\n",
       "</table>\n",
       "<p>15240 rows × 5 columns</p>\n",
       "</div>"
      ],
      "text/plain": [
       "\n",
       "       index  tema  conjunto  \\\n",
       "\u001b[1;36m0\u001b[0m         \u001b[1;36m17\u001b[0m    \u001b[1;36m78\u001b[0m         \u001b[1;36m1\u001b[0m   \n",
       "\u001b[1;36m1\u001b[0m          \u001b[1;36m1\u001b[0m    \u001b[1;36m77\u001b[0m         \u001b[1;36m1\u001b[0m   \n",
       "\u001b[1;36m2\u001b[0m         \u001b[1;36m58\u001b[0m    \u001b[1;36m83\u001b[0m         \u001b[1;36m1\u001b[0m   \n",
       "\u001b[1;36m3\u001b[0m         \u001b[1;36m48\u001b[0m     \u001b[1;36m8\u001b[0m         \u001b[1;36m1\u001b[0m   \n",
       "\u001b[1;36m4\u001b[0m         \u001b[1;36m43\u001b[0m    \u001b[1;36m51\u001b[0m         \u001b[1;36m1\u001b[0m   \n",
       "\u001b[33m...\u001b[0m      \u001b[33m...\u001b[0m   \u001b[33m...\u001b[0m       \u001b[33m...\u001b[0m   \n",
       "\u001b[1;36m15235\u001b[0m     \u001b[1;36m29\u001b[0m    \u001b[1;36m65\u001b[0m         \u001b[1;36m1\u001b[0m   \n",
       "\u001b[1;36m15236\u001b[0m     \u001b[1;36m15\u001b[0m    \u001b[1;36m18\u001b[0m         \u001b[1;36m1\u001b[0m   \n",
       "\u001b[1;36m15237\u001b[0m      \u001b[1;36m4\u001b[0m    \u001b[1;36m70\u001b[0m         \u001b[1;36m1\u001b[0m   \n",
       "\u001b[1;36m15238\u001b[0m      \u001b[1;36m2\u001b[0m    \u001b[1;36m69\u001b[0m         \u001b[1;36m1\u001b[0m   \n",
       "\u001b[1;36m15239\u001b[0m     \u001b[1;36m33\u001b[0m    \u001b[1;36m12\u001b[0m         \u001b[1;36m1\u001b[0m   \n",
       "\n",
       "                                                conceito valor  \n",
       "\u001b[1;36m0\u001b[0m                   Domínio da modalidade escrita formal  nota  \n",
       "\u001b[1;36m1\u001b[0m                   Domínio da modalidade escrita formal  nota  \n",
       "\u001b[1;36m2\u001b[0m                   Domínio da modalidade escrita formal  nota  \n",
       "\u001b[1;36m3\u001b[0m                   Domínio da modalidade escrita formal  nota  \n",
       "\u001b[1;36m4\u001b[0m                   Domínio da modalidade escrita formal  nota  \n",
       "\u001b[33m...\u001b[0m                                                  \u001b[33m...\u001b[0m   \u001b[33m...\u001b[0m  \n",
       "\u001b[1;36m15235\u001b[0m  Proposta de intervenção com respeito aos direi\u001b[33m...\u001b[0m  pred  \n",
       "\u001b[1;36m15236\u001b[0m  Proposta de intervenção com respeito aos direi\u001b[33m...\u001b[0m  pred  \n",
       "\u001b[1;36m15237\u001b[0m  Proposta de intervenção com respeito aos direi\u001b[33m...\u001b[0m  pred  \n",
       "\u001b[1;36m15238\u001b[0m  Proposta de intervenção com respeito aos direi\u001b[33m...\u001b[0m  pred  \n",
       "\u001b[1;36m15239\u001b[0m  Proposta de intervenção com respeito aos direi\u001b[33m...\u001b[0m  pred  \n",
       "\n",
       "\u001b[1m[\u001b[0m\u001b[1;36m15240\u001b[0m rows x \u001b[1;36m5\u001b[0m columns\u001b[1m]\u001b[0m"
      ]
     },
     "execution_count": 38,
     "metadata": {},
     "output_type": "execute_result"
    }
   ],
   "source": [
    "df[['index', 'tema', 'conjunto','conceito','valor']].drop_duplicates()"
   ]
  },
  {
   "cell_type": "code",
   "execution_count": 8,
   "id": "c5f8a0ed",
   "metadata": {},
   "outputs": [
    {
     "data": {
      "text/html": [
       "<pre style=\"white-space:pre;overflow-x:auto;line-height:normal;font-family:Menlo,'DejaVu Sans Mono',consolas,'Courier New',monospace\"><span style=\"color: #7fbfbf; text-decoration-color: #7fbfbf\">[10/29/23 17:06:55] </span><span style=\"color: #000080; text-decoration-color: #000080\">INFO    </span> Loading data from <span style=\"color: #008000; text-decoration-color: #008000\">'primeira_pred_especifica'</span> <span style=\"font-weight: bold\">(</span>ParquetDataSet<span style=\"font-weight: bold\">)</span><span style=\"color: #808000; text-decoration-color: #808000\">...</span>   <a href=\"file://C:\\Users\\ramon.boucas\\Miniconda3\\lib\\site-packages\\kedro\\io\\data_catalog.py\" target=\"_blank\"><span style=\"color: #7f7f7f; text-decoration-color: #7f7f7f\">data_catalog.py</span></a><span style=\"color: #7f7f7f; text-decoration-color: #7f7f7f\">:</span><a href=\"file://C:\\Users\\ramon.boucas\\Miniconda3\\lib\\site-packages\\kedro\\io\\data_catalog.py#503\" target=\"_blank\"><span style=\"color: #7f7f7f; text-decoration-color: #7f7f7f\">503</span></a>\n",
       "</pre>\n"
      ],
      "text/plain": [
       "\u001b[2;36m[10/29/23 17:06:55]\u001b[0m\u001b[2;36m \u001b[0m\u001b[34mINFO    \u001b[0m Loading data from \u001b[32m'primeira_pred_especifica'\u001b[0m \u001b[1m(\u001b[0mParquetDataSet\u001b[1m)\u001b[0m\u001b[33m...\u001b[0m   \u001b]8;id=84246;file://C:\\Users\\ramon.boucas\\Miniconda3\\lib\\site-packages\\kedro\\io\\data_catalog.py\u001b\\\u001b[2mdata_catalog.py\u001b[0m\u001b]8;;\u001b\\\u001b[2m:\u001b[0m\u001b]8;id=948664;file://C:\\Users\\ramon.boucas\\Miniconda3\\lib\\site-packages\\kedro\\io\\data_catalog.py#503\u001b\\\u001b[2m503\u001b[0m\u001b]8;;\u001b\\\n"
      ]
     },
     "metadata": {},
     "output_type": "display_data"
    },
    {
     "data": {
      "text/html": [
       "<pre style=\"white-space:pre;overflow-x:auto;line-height:normal;font-family:Menlo,'DejaVu Sans Mono',consolas,'Courier New',monospace\"></pre>\n"
      ],
      "text/plain": []
     },
     "metadata": {},
     "output_type": "display_data"
    },
    {
     "data": {
      "text/html": [
       "<div>\n",
       "<style scoped>\n",
       "    .dataframe tbody tr th:only-of-type {\n",
       "        vertical-align: middle;\n",
       "    }\n",
       "\n",
       "    .dataframe tbody tr th {\n",
       "        vertical-align: top;\n",
       "    }\n",
       "\n",
       "    .dataframe thead th {\n",
       "        text-align: right;\n",
       "    }\n",
       "</style>\n",
       "<table border=\"1\" class=\"dataframe\">\n",
       "  <thead>\n",
       "    <tr style=\"text-align: right;\">\n",
       "      <th></th>\n",
       "      <th>index</th>\n",
       "      <th>tema</th>\n",
       "      <th>conjunto</th>\n",
       "      <th>Domínio da modalidade escrita formal_nota_pred</th>\n",
       "      <th>Compreender a proposta e aplicar conceitos das várias áreas de conhecimento para desenvolver o texto dissertativo-argumentativo em prosa_nota_pred</th>\n",
       "      <th>Selecionar, relacionar, organizar e interpretar informações em defesa de um ponto de vista_nota_pred</th>\n",
       "      <th>Conhecimento dos mecanismos linguísticos necessários para a construção da argumentação_nota_pred</th>\n",
       "      <th>Proposta de intervenção com respeito aos direitos humanos_nota_pred</th>\n",
       "    </tr>\n",
       "  </thead>\n",
       "  <tbody>\n",
       "    <tr>\n",
       "      <th>0</th>\n",
       "      <td>0</td>\n",
       "      <td>1</td>\n",
       "      <td>1</td>\n",
       "      <td>134</td>\n",
       "      <td>141</td>\n",
       "      <td>143</td>\n",
       "      <td>146</td>\n",
       "      <td>98</td>\n",
       "    </tr>\n",
       "    <tr>\n",
       "      <th>1</th>\n",
       "      <td>36</td>\n",
       "      <td>1</td>\n",
       "      <td>1</td>\n",
       "      <td>158</td>\n",
       "      <td>130</td>\n",
       "      <td>106</td>\n",
       "      <td>167</td>\n",
       "      <td>170</td>\n",
       "    </tr>\n",
       "    <tr>\n",
       "      <th>2</th>\n",
       "      <td>35</td>\n",
       "      <td>1</td>\n",
       "      <td>1</td>\n",
       "      <td>157</td>\n",
       "      <td>166</td>\n",
       "      <td>158</td>\n",
       "      <td>181</td>\n",
       "      <td>178</td>\n",
       "    </tr>\n",
       "    <tr>\n",
       "      <th>3</th>\n",
       "      <td>104</td>\n",
       "      <td>1</td>\n",
       "      <td>1</td>\n",
       "      <td>151</td>\n",
       "      <td>177</td>\n",
       "      <td>125</td>\n",
       "      <td>194</td>\n",
       "      <td>101</td>\n",
       "    </tr>\n",
       "    <tr>\n",
       "      <th>4</th>\n",
       "      <td>65</td>\n",
       "      <td>1</td>\n",
       "      <td>1</td>\n",
       "      <td>133</td>\n",
       "      <td>160</td>\n",
       "      <td>128</td>\n",
       "      <td>165</td>\n",
       "      <td>100</td>\n",
       "    </tr>\n",
       "    <tr>\n",
       "      <th>...</th>\n",
       "      <td>...</td>\n",
       "      <td>...</td>\n",
       "      <td>...</td>\n",
       "      <td>...</td>\n",
       "      <td>...</td>\n",
       "      <td>...</td>\n",
       "      <td>...</td>\n",
       "      <td>...</td>\n",
       "    </tr>\n",
       "    <tr>\n",
       "      <th>1519</th>\n",
       "      <td>20</td>\n",
       "      <td>85</td>\n",
       "      <td>1</td>\n",
       "      <td>155</td>\n",
       "      <td>181</td>\n",
       "      <td>127</td>\n",
       "      <td>191</td>\n",
       "      <td>170</td>\n",
       "    </tr>\n",
       "    <tr>\n",
       "      <th>1520</th>\n",
       "      <td>21</td>\n",
       "      <td>85</td>\n",
       "      <td>1</td>\n",
       "      <td>138</td>\n",
       "      <td>168</td>\n",
       "      <td>156</td>\n",
       "      <td>193</td>\n",
       "      <td>147</td>\n",
       "    </tr>\n",
       "    <tr>\n",
       "      <th>1521</th>\n",
       "      <td>18</td>\n",
       "      <td>85</td>\n",
       "      <td>1</td>\n",
       "      <td>129</td>\n",
       "      <td>151</td>\n",
       "      <td>122</td>\n",
       "      <td>156</td>\n",
       "      <td>134</td>\n",
       "    </tr>\n",
       "    <tr>\n",
       "      <th>1522</th>\n",
       "      <td>49</td>\n",
       "      <td>85</td>\n",
       "      <td>1</td>\n",
       "      <td>138</td>\n",
       "      <td>182</td>\n",
       "      <td>135</td>\n",
       "      <td>170</td>\n",
       "      <td>178</td>\n",
       "    </tr>\n",
       "    <tr>\n",
       "      <th>1523</th>\n",
       "      <td>81</td>\n",
       "      <td>85</td>\n",
       "      <td>1</td>\n",
       "      <td>152</td>\n",
       "      <td>91</td>\n",
       "      <td>87</td>\n",
       "      <td>190</td>\n",
       "      <td>116</td>\n",
       "    </tr>\n",
       "  </tbody>\n",
       "</table>\n",
       "<p>1524 rows × 8 columns</p>\n",
       "</div>"
      ],
      "text/plain": [
       "\n",
       "      index  tema  conjunto  Domínio da modalidade escrita formal_nota_pred  \\\n",
       "\u001b[1;36m0\u001b[0m         \u001b[1;36m0\u001b[0m     \u001b[1;36m1\u001b[0m         \u001b[1;36m1\u001b[0m                                             \u001b[1;36m134\u001b[0m   \n",
       "\u001b[1;36m1\u001b[0m        \u001b[1;36m36\u001b[0m     \u001b[1;36m1\u001b[0m         \u001b[1;36m1\u001b[0m                                             \u001b[1;36m158\u001b[0m   \n",
       "\u001b[1;36m2\u001b[0m        \u001b[1;36m35\u001b[0m     \u001b[1;36m1\u001b[0m         \u001b[1;36m1\u001b[0m                                             \u001b[1;36m157\u001b[0m   \n",
       "\u001b[1;36m3\u001b[0m       \u001b[1;36m104\u001b[0m     \u001b[1;36m1\u001b[0m         \u001b[1;36m1\u001b[0m                                             \u001b[1;36m151\u001b[0m   \n",
       "\u001b[1;36m4\u001b[0m        \u001b[1;36m65\u001b[0m     \u001b[1;36m1\u001b[0m         \u001b[1;36m1\u001b[0m                                             \u001b[1;36m133\u001b[0m   \n",
       "\u001b[33m...\u001b[0m     \u001b[33m...\u001b[0m   \u001b[33m...\u001b[0m       \u001b[33m...\u001b[0m                                             \u001b[33m...\u001b[0m   \n",
       "\u001b[1;36m1519\u001b[0m     \u001b[1;36m20\u001b[0m    \u001b[1;36m85\u001b[0m         \u001b[1;36m1\u001b[0m                                             \u001b[1;36m155\u001b[0m   \n",
       "\u001b[1;36m1520\u001b[0m     \u001b[1;36m21\u001b[0m    \u001b[1;36m85\u001b[0m         \u001b[1;36m1\u001b[0m                                             \u001b[1;36m138\u001b[0m   \n",
       "\u001b[1;36m1521\u001b[0m     \u001b[1;36m18\u001b[0m    \u001b[1;36m85\u001b[0m         \u001b[1;36m1\u001b[0m                                             \u001b[1;36m129\u001b[0m   \n",
       "\u001b[1;36m1522\u001b[0m     \u001b[1;36m49\u001b[0m    \u001b[1;36m85\u001b[0m         \u001b[1;36m1\u001b[0m                                             \u001b[1;36m138\u001b[0m   \n",
       "\u001b[1;36m1523\u001b[0m     \u001b[1;36m81\u001b[0m    \u001b[1;36m85\u001b[0m         \u001b[1;36m1\u001b[0m                                             \u001b[1;36m152\u001b[0m   \n",
       "\n",
       "      Compreender a proposta e aplicar conceitos das várias áreas de conhecimento para desenvolver o texto dissertativo-argumentativo em prosa_nota_pred  \\\n",
       "\u001b[1;36m0\u001b[0m                                                   \u001b[1;36m141\u001b[0m                                                            \n",
       "\u001b[1;36m1\u001b[0m                                                   \u001b[1;36m130\u001b[0m                                                            \n",
       "\u001b[1;36m2\u001b[0m                                                   \u001b[1;36m166\u001b[0m                                                            \n",
       "\u001b[1;36m3\u001b[0m                                                   \u001b[1;36m177\u001b[0m                                                            \n",
       "\u001b[1;36m4\u001b[0m                                                   \u001b[1;36m160\u001b[0m                                                            \n",
       "\u001b[33m...\u001b[0m                                                 \u001b[33m...\u001b[0m                                                            \n",
       "\u001b[1;36m1519\u001b[0m                                                \u001b[1;36m181\u001b[0m                                                            \n",
       "\u001b[1;36m1520\u001b[0m                                                \u001b[1;36m168\u001b[0m                                                            \n",
       "\u001b[1;36m1521\u001b[0m                                                \u001b[1;36m151\u001b[0m                                                            \n",
       "\u001b[1;36m1522\u001b[0m                                                \u001b[1;36m182\u001b[0m                                                            \n",
       "\u001b[1;36m1523\u001b[0m                                                 \u001b[1;36m91\u001b[0m                                                            \n",
       "\n",
       "      Selecionar, relacionar, organizar e interpretar informações em defesa de um ponto de vista_nota_pred  \\\n",
       "\u001b[1;36m0\u001b[0m                                                   \u001b[1;36m143\u001b[0m                                                      \n",
       "\u001b[1;36m1\u001b[0m                                                   \u001b[1;36m106\u001b[0m                                                      \n",
       "\u001b[1;36m2\u001b[0m                                                   \u001b[1;36m158\u001b[0m                                                      \n",
       "\u001b[1;36m3\u001b[0m                                                   \u001b[1;36m125\u001b[0m                                                      \n",
       "\u001b[1;36m4\u001b[0m                                                   \u001b[1;36m128\u001b[0m                                                      \n",
       "\u001b[33m...\u001b[0m                                                 \u001b[33m...\u001b[0m                                                      \n",
       "\u001b[1;36m1519\u001b[0m                                                \u001b[1;36m127\u001b[0m                                                      \n",
       "\u001b[1;36m1520\u001b[0m                                                \u001b[1;36m156\u001b[0m                                                      \n",
       "\u001b[1;36m1521\u001b[0m                                                \u001b[1;36m122\u001b[0m                                                      \n",
       "\u001b[1;36m1522\u001b[0m                                                \u001b[1;36m135\u001b[0m                                                      \n",
       "\u001b[1;36m1523\u001b[0m                                                 \u001b[1;36m87\u001b[0m                                                      \n",
       "\n",
       "      Conhecimento dos mecanismos linguísticos necessários para a construção da argumentação_nota_pred  \\\n",
       "\u001b[1;36m0\u001b[0m                                                   \u001b[1;36m146\u001b[0m                                                  \n",
       "\u001b[1;36m1\u001b[0m                                                   \u001b[1;36m167\u001b[0m                                                  \n",
       "\u001b[1;36m2\u001b[0m                                                   \u001b[1;36m181\u001b[0m                                                  \n",
       "\u001b[1;36m3\u001b[0m                                                   \u001b[1;36m194\u001b[0m                                                  \n",
       "\u001b[1;36m4\u001b[0m                                                   \u001b[1;36m165\u001b[0m                                                  \n",
       "\u001b[33m...\u001b[0m                                                 \u001b[33m...\u001b[0m                                                  \n",
       "\u001b[1;36m1519\u001b[0m                                                \u001b[1;36m191\u001b[0m                                                  \n",
       "\u001b[1;36m1520\u001b[0m                                                \u001b[1;36m193\u001b[0m                                                  \n",
       "\u001b[1;36m1521\u001b[0m                                                \u001b[1;36m156\u001b[0m                                                  \n",
       "\u001b[1;36m1522\u001b[0m                                                \u001b[1;36m170\u001b[0m                                                  \n",
       "\u001b[1;36m1523\u001b[0m                                                \u001b[1;36m190\u001b[0m                                                  \n",
       "\n",
       "      Proposta de intervenção com respeito aos direitos humanos_nota_pred  \n",
       "\u001b[1;36m0\u001b[0m                                                    \u001b[1;36m98\u001b[0m                    \n",
       "\u001b[1;36m1\u001b[0m                                                   \u001b[1;36m170\u001b[0m                    \n",
       "\u001b[1;36m2\u001b[0m                                                   \u001b[1;36m178\u001b[0m                    \n",
       "\u001b[1;36m3\u001b[0m                                                   \u001b[1;36m101\u001b[0m                    \n",
       "\u001b[1;36m4\u001b[0m                                                   \u001b[1;36m100\u001b[0m                    \n",
       "\u001b[33m...\u001b[0m                                                 \u001b[33m...\u001b[0m                    \n",
       "\u001b[1;36m1519\u001b[0m                                                \u001b[1;36m170\u001b[0m                    \n",
       "\u001b[1;36m1520\u001b[0m                                                \u001b[1;36m147\u001b[0m                    \n",
       "\u001b[1;36m1521\u001b[0m                                                \u001b[1;36m134\u001b[0m                    \n",
       "\u001b[1;36m1522\u001b[0m                                                \u001b[1;36m178\u001b[0m                    \n",
       "\u001b[1;36m1523\u001b[0m                                                \u001b[1;36m116\u001b[0m                    \n",
       "\n",
       "\u001b[1m[\u001b[0m\u001b[1;36m1524\u001b[0m rows x \u001b[1;36m8\u001b[0m columns\u001b[1m]\u001b[0m"
      ]
     },
     "execution_count": 8,
     "metadata": {},
     "output_type": "execute_result"
    }
   ],
   "source": [
    "df = catalog.load('primeira_pred_especifica')\n",
    "df"
   ]
  },
  {
   "cell_type": "code",
   "execution_count": 5,
   "id": "871510eb",
   "metadata": {},
   "outputs": [
    {
     "data": {
      "text/html": [
       "<pre style=\"white-space:pre;overflow-x:auto;line-height:normal;font-family:Menlo,'DejaVu Sans Mono',consolas,'Courier New',monospace\"><span style=\"color: #7fbfbf; text-decoration-color: #7fbfbf\">[10/29/23 17:05:44] </span><span style=\"color: #000080; text-decoration-color: #000080\">INFO    </span> Loading data from <span style=\"color: #008000; text-decoration-color: #008000\">'primeiro_teste'</span> <span style=\"font-weight: bold\">(</span>ParquetDataSet<span style=\"font-weight: bold\">)</span><span style=\"color: #808000; text-decoration-color: #808000\">...</span>             <a href=\"file://C:\\Users\\ramon.boucas\\Miniconda3\\lib\\site-packages\\kedro\\io\\data_catalog.py\" target=\"_blank\"><span style=\"color: #7f7f7f; text-decoration-color: #7f7f7f\">data_catalog.py</span></a><span style=\"color: #7f7f7f; text-decoration-color: #7f7f7f\">:</span><a href=\"file://C:\\Users\\ramon.boucas\\Miniconda3\\lib\\site-packages\\kedro\\io\\data_catalog.py#503\" target=\"_blank\"><span style=\"color: #7f7f7f; text-decoration-color: #7f7f7f\">503</span></a>\n",
       "</pre>\n"
      ],
      "text/plain": [
       "\u001b[2;36m[10/29/23 17:05:44]\u001b[0m\u001b[2;36m \u001b[0m\u001b[34mINFO    \u001b[0m Loading data from \u001b[32m'primeiro_teste'\u001b[0m \u001b[1m(\u001b[0mParquetDataSet\u001b[1m)\u001b[0m\u001b[33m...\u001b[0m             \u001b]8;id=874526;file://C:\\Users\\ramon.boucas\\Miniconda3\\lib\\site-packages\\kedro\\io\\data_catalog.py\u001b\\\u001b[2mdata_catalog.py\u001b[0m\u001b]8;;\u001b\\\u001b[2m:\u001b[0m\u001b]8;id=168269;file://C:\\Users\\ramon.boucas\\Miniconda3\\lib\\site-packages\\kedro\\io\\data_catalog.py#503\u001b\\\u001b[2m503\u001b[0m\u001b]8;;\u001b\\\n"
      ]
     },
     "metadata": {},
     "output_type": "display_data"
    },
    {
     "data": {
      "text/html": [
       "<pre style=\"white-space:pre;overflow-x:auto;line-height:normal;font-family:Menlo,'DejaVu Sans Mono',consolas,'Courier New',monospace\"><span style=\"color: #800000; text-decoration-color: #800000\">╭─────────────────────────────── </span><span style=\"color: #800000; text-decoration-color: #800000; font-weight: bold\">Traceback </span><span style=\"color: #bf7f7f; text-decoration-color: #bf7f7f; font-weight: bold\">(most recent call last)</span><span style=\"color: #800000; text-decoration-color: #800000\"> ────────────────────────────────╮</span>\n",
       "<span style=\"color: #800000; text-decoration-color: #800000\">│</span> in <span style=\"color: #00ff00; text-decoration-color: #00ff00\">&lt;module&gt;</span>:<span style=\"color: #0000ff; text-decoration-color: #0000ff\">2</span>                                                                                    <span style=\"color: #800000; text-decoration-color: #800000\">│</span>\n",
       "<span style=\"color: #800000; text-decoration-color: #800000\">│</span>                                                                                                  <span style=\"color: #800000; text-decoration-color: #800000\">│</span>\n",
       "<span style=\"color: #800000; text-decoration-color: #800000\">│</span>   <span style=\"color: #7f7f7f; text-decoration-color: #7f7f7f\">1 </span>df = catalog.load(<span style=\"color: #808000; text-decoration-color: #808000\">'primeiro_teste'</span>)                                                          <span style=\"color: #800000; text-decoration-color: #800000\">│</span>\n",
       "<span style=\"color: #800000; text-decoration-color: #800000\">│</span> <span style=\"color: #800000; text-decoration-color: #800000\">❱ </span>2 df = df[config.ID_VARS + TARGETS_1]                                                          <span style=\"color: #800000; text-decoration-color: #800000\">│</span>\n",
       "<span style=\"color: #800000; text-decoration-color: #800000\">│</span>   <span style=\"color: #7f7f7f; text-decoration-color: #7f7f7f\">3 </span>                                                                                             <span style=\"color: #800000; text-decoration-color: #800000\">│</span>\n",
       "<span style=\"color: #800000; text-decoration-color: #800000\">╰──────────────────────────────────────────────────────────────────────────────────────────────────╯</span>\n",
       "<span style=\"color: #ff0000; text-decoration-color: #ff0000; font-weight: bold\">NameError: </span>name <span style=\"color: #008000; text-decoration-color: #008000\">'config'</span> is not defined\n",
       "</pre>\n"
      ],
      "text/plain": [
       "\u001b[31m╭─\u001b[0m\u001b[31m──────────────────────────────\u001b[0m\u001b[31m \u001b[0m\u001b[1;31mTraceback \u001b[0m\u001b[1;2;31m(most recent call last)\u001b[0m\u001b[31m \u001b[0m\u001b[31m───────────────────────────────\u001b[0m\u001b[31m─╮\u001b[0m\n",
       "\u001b[31m│\u001b[0m in \u001b[92m<module>\u001b[0m:\u001b[94m2\u001b[0m                                                                                    \u001b[31m│\u001b[0m\n",
       "\u001b[31m│\u001b[0m                                                                                                  \u001b[31m│\u001b[0m\n",
       "\u001b[31m│\u001b[0m   \u001b[2m1 \u001b[0mdf = catalog.load(\u001b[33m'\u001b[0m\u001b[33mprimeiro_teste\u001b[0m\u001b[33m'\u001b[0m)                                                          \u001b[31m│\u001b[0m\n",
       "\u001b[31m│\u001b[0m \u001b[31m❱ \u001b[0m2 df = df[config.ID_VARS + TARGETS_1]                                                          \u001b[31m│\u001b[0m\n",
       "\u001b[31m│\u001b[0m   \u001b[2m3 \u001b[0m                                                                                             \u001b[31m│\u001b[0m\n",
       "\u001b[31m╰──────────────────────────────────────────────────────────────────────────────────────────────────╯\u001b[0m\n",
       "\u001b[1;91mNameError: \u001b[0mname \u001b[32m'config'\u001b[0m is not defined\n"
      ]
     },
     "metadata": {},
     "output_type": "display_data"
    }
   ],
   "source": [
    "df\n",
    "\n",
    "\n",
    "df = df[config.ID_VARS + TARGETS_1]"
   ]
  },
  {
   "cell_type": "code",
   "execution_count": null,
   "id": "e7bddc2c",
   "metadata": {},
   "outputs": [],
   "source": [
    "ID_"
   ]
  }
 ],
 "metadata": {
  "kernelspec": {
   "display_name": "Kedro (textgrader)",
   "language": "python",
   "name": "kedro_textgrader"
  },
  "language_info": {
   "codemirror_mode": {
    "name": "ipython",
    "version": 3
   },
   "file_extension": ".py",
   "mimetype": "text/x-python",
   "name": "python",
   "nbconvert_exporter": "python",
   "pygments_lexer": "ipython3",
   "version": "3.7.13"
  }
 },
 "nbformat": 4,
 "nbformat_minor": 5
}
