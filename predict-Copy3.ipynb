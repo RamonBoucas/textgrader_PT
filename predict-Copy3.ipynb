{
 "cells": [
  {
   "cell_type": "code",
   "execution_count": 3,
   "id": "ceed1daf",
   "metadata": {},
   "outputs": [
    {
     "data": {
      "text/html": [
       "<pre style=\"white-space:pre;overflow-x:auto;line-height:normal;font-family:Menlo,'DejaVu Sans Mono',consolas,'Courier New',monospace\"><span style=\"color: #7fbfbf; text-decoration-color: #7fbfbf\">[11/02/23 16:35:55] </span><span style=\"color: #000080; text-decoration-color: #000080\">INFO    </span> Resolved project path as:                                              <a href=\"file://C:\\Users\\ramon.boucas\\Miniconda3\\lib\\site-packages\\kedro\\ipython\\__init__.py\" target=\"_blank\"><span style=\"color: #7f7f7f; text-decoration-color: #7f7f7f\">__init__.py</span></a><span style=\"color: #7f7f7f; text-decoration-color: #7f7f7f\">:</span><a href=\"file://C:\\Users\\ramon.boucas\\Miniconda3\\lib\\site-packages\\kedro\\ipython\\__init__.py#142\" target=\"_blank\"><span style=\"color: #7f7f7f; text-decoration-color: #7f7f7f\">142</span></a>\n",
       "<span style=\"color: #7fbfbf; text-decoration-color: #7fbfbf\">                    </span>         C:\\Users\\ramon.boucas\\Desktop\\pesquisa_kedro\\textgrader.               <span style=\"color: #7f7f7f; text-decoration-color: #7f7f7f\">               </span>\n",
       "<span style=\"color: #7fbfbf; text-decoration-color: #7fbfbf\">                    </span>         To set a different path, run <span style=\"color: #008000; text-decoration-color: #008000\">'%reload_kedro &lt;project_root&gt;'</span>            <span style=\"color: #7f7f7f; text-decoration-color: #7f7f7f\">               </span>\n",
       "</pre>\n"
      ],
      "text/plain": [
       "\u001b[2;36m[11/02/23 16:35:55]\u001b[0m\u001b[2;36m \u001b[0m\u001b[34mINFO    \u001b[0m Resolved project path as:                                              \u001b]8;id=876142;file://C:\\Users\\ramon.boucas\\Miniconda3\\lib\\site-packages\\kedro\\ipython\\__init__.py\u001b\\\u001b[2m__init__.py\u001b[0m\u001b]8;;\u001b\\\u001b[2m:\u001b[0m\u001b]8;id=216301;file://C:\\Users\\ramon.boucas\\Miniconda3\\lib\\site-packages\\kedro\\ipython\\__init__.py#142\u001b\\\u001b[2m142\u001b[0m\u001b]8;;\u001b\\\n",
       "\u001b[2;36m                    \u001b[0m         C:\\Users\\ramon.boucas\\Desktop\\pesquisa_kedro\\textgrader.               \u001b[2m               \u001b[0m\n",
       "\u001b[2;36m                    \u001b[0m         To set a different path, run \u001b[32m'%reload_kedro \u001b[0m\u001b[32m<\u001b[0m\u001b[32mproject_root\u001b[0m\u001b[32m>\u001b[0m\u001b[32m'\u001b[0m            \u001b[2m               \u001b[0m\n"
      ]
     },
     "metadata": {},
     "output_type": "display_data"
    },
    {
     "data": {
      "text/html": [
       "<pre style=\"white-space:pre;overflow-x:auto;line-height:normal;font-family:Menlo,'DejaVu Sans Mono',consolas,'Courier New',monospace\"><span style=\"color: #7fbfbf; text-decoration-color: #7fbfbf\">[11/02/23 16:35:55] </span><span style=\"color: #800000; text-decoration-color: #800000\">WARNING </span> C:\\Users\\ramon.boucas\\Miniconda3\\lib\\site-packages\\kedro\\io\\partitione <a href=\"file://C:\\Users\\ramon.boucas\\Miniconda3\\lib\\warnings.py\" target=\"_blank\"><span style=\"color: #7f7f7f; text-decoration-color: #7f7f7f\">warnings.py</span></a><span style=\"color: #7f7f7f; text-decoration-color: #7f7f7f\">:</span><a href=\"file://C:\\Users\\ramon.boucas\\Miniconda3\\lib\\warnings.py#110\" target=\"_blank\"><span style=\"color: #7f7f7f; text-decoration-color: #7f7f7f\">110</span></a>\n",
       "<span style=\"color: #7fbfbf; text-decoration-color: #7fbfbf\">                    </span>         d_dataset.py:<span style=\"color: #008080; text-decoration-color: #008080; font-weight: bold\">202</span>: KedroDeprecationWarning: <span style=\"color: #008000; text-decoration-color: #008000\">'PartitionedDataset'</span> has    <span style=\"color: #7f7f7f; text-decoration-color: #7f7f7f\">               </span>\n",
       "<span style=\"color: #7fbfbf; text-decoration-color: #7fbfbf\">                    </span>         been moved to `kedro-datasets` and will be removed in Kedro <span style=\"color: #008080; text-decoration-color: #008080; font-weight: bold\">0.19</span>.<span style=\"color: #008080; text-decoration-color: #008080; font-weight: bold\">0</span>.    <span style=\"color: #7f7f7f; text-decoration-color: #7f7f7f\">               </span>\n",
       "<span style=\"color: #7fbfbf; text-decoration-color: #7fbfbf\">                    </span>           KedroDeprecationWarning,                                             <span style=\"color: #7f7f7f; text-decoration-color: #7f7f7f\">               </span>\n",
       "<span style=\"color: #7fbfbf; text-decoration-color: #7fbfbf\">                    </span>                                                                                <span style=\"color: #7f7f7f; text-decoration-color: #7f7f7f\">               </span>\n",
       "</pre>\n"
      ],
      "text/plain": [
       "\u001b[2;36m[11/02/23 16:35:55]\u001b[0m\u001b[2;36m \u001b[0m\u001b[31mWARNING \u001b[0m C:\\Users\\ramon.boucas\\Miniconda3\\lib\\site-packages\\kedro\\io\\partitione \u001b]8;id=285095;file://C:\\Users\\ramon.boucas\\Miniconda3\\lib\\warnings.py\u001b\\\u001b[2mwarnings.py\u001b[0m\u001b]8;;\u001b\\\u001b[2m:\u001b[0m\u001b]8;id=82579;file://C:\\Users\\ramon.boucas\\Miniconda3\\lib\\warnings.py#110\u001b\\\u001b[2m110\u001b[0m\u001b]8;;\u001b\\\n",
       "\u001b[2;36m                    \u001b[0m         d_dataset.py:\u001b[1;36m202\u001b[0m: KedroDeprecationWarning: \u001b[32m'PartitionedDataset'\u001b[0m has    \u001b[2m               \u001b[0m\n",
       "\u001b[2;36m                    \u001b[0m         been moved to `kedro-datasets` and will be removed in Kedro \u001b[1;36m0.19\u001b[0m.\u001b[1;36m0\u001b[0m.    \u001b[2m               \u001b[0m\n",
       "\u001b[2;36m                    \u001b[0m           KedroDeprecationWarning,                                             \u001b[2m               \u001b[0m\n",
       "\u001b[2;36m                    \u001b[0m                                                                                \u001b[2m               \u001b[0m\n"
      ]
     },
     "metadata": {},
     "output_type": "display_data"
    },
    {
     "data": {
      "text/html": [
       "<pre style=\"white-space:pre;overflow-x:auto;line-height:normal;font-family:Menlo,'DejaVu Sans Mono',consolas,'Courier New',monospace\"><span style=\"color: #7fbfbf; text-decoration-color: #7fbfbf\">                    </span><span style=\"color: #000080; text-decoration-color: #000080\">INFO    </span> Kedro project textgrader                                               <a href=\"file://C:\\Users\\ramon.boucas\\Miniconda3\\lib\\site-packages\\kedro\\ipython\\__init__.py\" target=\"_blank\"><span style=\"color: #7f7f7f; text-decoration-color: #7f7f7f\">__init__.py</span></a><span style=\"color: #7f7f7f; text-decoration-color: #7f7f7f\">:</span><a href=\"file://C:\\Users\\ramon.boucas\\Miniconda3\\lib\\site-packages\\kedro\\ipython\\__init__.py#108\" target=\"_blank\"><span style=\"color: #7f7f7f; text-decoration-color: #7f7f7f\">108</span></a>\n",
       "</pre>\n"
      ],
      "text/plain": [
       "\u001b[2;36m                   \u001b[0m\u001b[2;36m \u001b[0m\u001b[34mINFO    \u001b[0m Kedro project textgrader                                               \u001b]8;id=766486;file://C:\\Users\\ramon.boucas\\Miniconda3\\lib\\site-packages\\kedro\\ipython\\__init__.py\u001b\\\u001b[2m__init__.py\u001b[0m\u001b]8;;\u001b\\\u001b[2m:\u001b[0m\u001b]8;id=542160;file://C:\\Users\\ramon.boucas\\Miniconda3\\lib\\site-packages\\kedro\\ipython\\__init__.py#108\u001b\\\u001b[2m108\u001b[0m\u001b]8;;\u001b\\\n"
      ]
     },
     "metadata": {},
     "output_type": "display_data"
    },
    {
     "data": {
      "text/html": [
       "<pre style=\"white-space:pre;overflow-x:auto;line-height:normal;font-family:Menlo,'DejaVu Sans Mono',consolas,'Courier New',monospace\"><span style=\"color: #7fbfbf; text-decoration-color: #7fbfbf\">                    </span><span style=\"color: #000080; text-decoration-color: #000080\">INFO    </span> Defined global variable <span style=\"color: #008000; text-decoration-color: #008000\">'context'</span>, <span style=\"color: #008000; text-decoration-color: #008000\">'session'</span>, <span style=\"color: #008000; text-decoration-color: #008000\">'catalog'</span> and            <a href=\"file://C:\\Users\\ramon.boucas\\Miniconda3\\lib\\site-packages\\kedro\\ipython\\__init__.py\" target=\"_blank\"><span style=\"color: #7f7f7f; text-decoration-color: #7f7f7f\">__init__.py</span></a><span style=\"color: #7f7f7f; text-decoration-color: #7f7f7f\">:</span><a href=\"file://C:\\Users\\ramon.boucas\\Miniconda3\\lib\\site-packages\\kedro\\ipython\\__init__.py#110\" target=\"_blank\"><span style=\"color: #7f7f7f; text-decoration-color: #7f7f7f\">110</span></a>\n",
       "<span style=\"color: #7fbfbf; text-decoration-color: #7fbfbf\">                    </span>         <span style=\"color: #008000; text-decoration-color: #008000\">'pipelines'</span>                                                            <span style=\"color: #7f7f7f; text-decoration-color: #7f7f7f\">               </span>\n",
       "</pre>\n"
      ],
      "text/plain": [
       "\u001b[2;36m                   \u001b[0m\u001b[2;36m \u001b[0m\u001b[34mINFO    \u001b[0m Defined global variable \u001b[32m'context'\u001b[0m, \u001b[32m'session'\u001b[0m, \u001b[32m'catalog'\u001b[0m and            \u001b]8;id=175561;file://C:\\Users\\ramon.boucas\\Miniconda3\\lib\\site-packages\\kedro\\ipython\\__init__.py\u001b\\\u001b[2m__init__.py\u001b[0m\u001b]8;;\u001b\\\u001b[2m:\u001b[0m\u001b]8;id=782392;file://C:\\Users\\ramon.boucas\\Miniconda3\\lib\\site-packages\\kedro\\ipython\\__init__.py#110\u001b\\\u001b[2m110\u001b[0m\u001b]8;;\u001b\\\n",
       "\u001b[2;36m                    \u001b[0m         \u001b[32m'pipelines'\u001b[0m                                                            \u001b[2m               \u001b[0m\n"
      ]
     },
     "metadata": {},
     "output_type": "display_data"
    },
    {
     "data": {
      "text/html": [
       "<pre style=\"white-space:pre;overflow-x:auto;line-height:normal;font-family:Menlo,'DejaVu Sans Mono',consolas,'Courier New',monospace\"><span style=\"color: #7fbfbf; text-decoration-color: #7fbfbf\">                    </span><span style=\"color: #000080; text-decoration-color: #000080\">INFO    </span> Registered line magic <span style=\"color: #008000; text-decoration-color: #008000\">'run_viz'</span>                                        <a href=\"file://C:\\Users\\ramon.boucas\\Miniconda3\\lib\\site-packages\\kedro\\ipython\\__init__.py\" target=\"_blank\"><span style=\"color: #7f7f7f; text-decoration-color: #7f7f7f\">__init__.py</span></a><span style=\"color: #7f7f7f; text-decoration-color: #7f7f7f\">:</span><a href=\"file://C:\\Users\\ramon.boucas\\Miniconda3\\lib\\site-packages\\kedro\\ipython\\__init__.py#115\" target=\"_blank\"><span style=\"color: #7f7f7f; text-decoration-color: #7f7f7f\">115</span></a>\n",
       "</pre>\n"
      ],
      "text/plain": [
       "\u001b[2;36m                   \u001b[0m\u001b[2;36m \u001b[0m\u001b[34mINFO    \u001b[0m Registered line magic \u001b[32m'run_viz'\u001b[0m                                        \u001b]8;id=725647;file://C:\\Users\\ramon.boucas\\Miniconda3\\lib\\site-packages\\kedro\\ipython\\__init__.py\u001b\\\u001b[2m__init__.py\u001b[0m\u001b]8;;\u001b\\\u001b[2m:\u001b[0m\u001b]8;id=137462;file://C:\\Users\\ramon.boucas\\Miniconda3\\lib\\site-packages\\kedro\\ipython\\__init__.py#115\u001b\\\u001b[2m115\u001b[0m\u001b]8;;\u001b\\\n"
      ]
     },
     "metadata": {},
     "output_type": "display_data"
    },
    {
     "data": {
      "text/html": [
       "<pre style=\"white-space:pre;overflow-x:auto;line-height:normal;font-family:Menlo,'DejaVu Sans Mono',consolas,'Courier New',monospace\"><span style=\"color: #800000; text-decoration-color: #800000\">╭─────────────────────────────── </span><span style=\"color: #800000; text-decoration-color: #800000; font-weight: bold\">Traceback </span><span style=\"color: #bf7f7f; text-decoration-color: #bf7f7f; font-weight: bold\">(most recent call last)</span><span style=\"color: #800000; text-decoration-color: #800000\"> ────────────────────────────────╮</span>\n",
       "<span style=\"color: #800000; text-decoration-color: #800000\">│</span> in <span style=\"color: #00ff00; text-decoration-color: #00ff00\">&lt;module&gt;</span>:<span style=\"color: #0000ff; text-decoration-color: #0000ff\">9</span>                                                                                    <span style=\"color: #800000; text-decoration-color: #800000\">│</span>\n",
       "<span style=\"color: #800000; text-decoration-color: #800000\">│</span>                                                                                                  <span style=\"color: #800000; text-decoration-color: #800000\">│</span>\n",
       "<span style=\"color: #800000; text-decoration-color: #800000\">│</span>   <span style=\"color: #7f7f7f; text-decoration-color: #7f7f7f\"> 6 </span><span style=\"color: #0000ff; text-decoration-color: #0000ff\">import</span> <span style=\"color: #00ffff; text-decoration-color: #00ffff; text-decoration: underline\">pickle</span>                                                                               <span style=\"color: #800000; text-decoration-color: #800000\">│</span>\n",
       "<span style=\"color: #800000; text-decoration-color: #800000\">│</span>   <span style=\"color: #7f7f7f; text-decoration-color: #7f7f7f\"> 7 </span>                                                                                            <span style=\"color: #800000; text-decoration-color: #800000\">│</span>\n",
       "<span style=\"color: #800000; text-decoration-color: #800000\">│</span>   <span style=\"color: #7f7f7f; text-decoration-color: #7f7f7f\"> 8 </span><span style=\"color: #0000ff; text-decoration-color: #0000ff\">import</span> <span style=\"color: #00ffff; text-decoration-color: #00ffff; text-decoration: underline\">pandas</span> <span style=\"color: #0000ff; text-decoration-color: #0000ff\">as</span> <span style=\"color: #00ffff; text-decoration-color: #00ffff; text-decoration: underline\">pd</span>                                                                         <span style=\"color: #800000; text-decoration-color: #800000\">│</span>\n",
       "<span style=\"color: #800000; text-decoration-color: #800000\">│</span> <span style=\"color: #800000; text-decoration-color: #800000\">❱ </span> 9 <span style=\"color: #0000ff; text-decoration-color: #0000ff\">from</span> <span style=\"color: #00ffff; text-decoration-color: #00ffff; text-decoration: underline\">textgrader.pipelines.data_processing.config</span> <span style=\"color: #0000ff; text-decoration-color: #0000ff\">import</span> *                                   <span style=\"color: #800000; text-decoration-color: #800000\">│</span>\n",
       "<span style=\"color: #800000; text-decoration-color: #800000\">│</span>   <span style=\"color: #7f7f7f; text-decoration-color: #7f7f7f\">10 </span>                                                                                            <span style=\"color: #800000; text-decoration-color: #800000\">│</span>\n",
       "<span style=\"color: #800000; text-decoration-color: #800000\">│</span>   <span style=\"color: #7f7f7f; text-decoration-color: #7f7f7f\">11 </span><span style=\"color: #0000ff; text-decoration-color: #0000ff\">from</span> <span style=\"color: #00ffff; text-decoration-color: #00ffff; text-decoration: underline\">xgboost</span> <span style=\"color: #0000ff; text-decoration-color: #0000ff\">import</span> XGBRegressor                                                            <span style=\"color: #800000; text-decoration-color: #800000\">│</span>\n",
       "<span style=\"color: #800000; text-decoration-color: #800000\">│</span>   <span style=\"color: #7f7f7f; text-decoration-color: #7f7f7f\">12 </span><span style=\"color: #0000ff; text-decoration-color: #0000ff\">from</span> <span style=\"color: #00ffff; text-decoration-color: #00ffff; text-decoration: underline\">sklearn.metrics</span> <span style=\"color: #0000ff; text-decoration-color: #0000ff\">import</span> cohen_kappa_score                                               <span style=\"color: #800000; text-decoration-color: #800000\">│</span>\n",
       "<span style=\"color: #800000; text-decoration-color: #800000\">╰──────────────────────────────────────────────────────────────────────────────────────────────────╯</span>\n",
       "<span style=\"color: #ff0000; text-decoration-color: #ff0000; font-weight: bold\">ModuleNotFoundError: </span>No module named <span style=\"color: #008000; text-decoration-color: #008000\">'textgrader.pipelines.data_processing'</span>\n",
       "</pre>\n"
      ],
      "text/plain": [
       "\u001b[31m╭─\u001b[0m\u001b[31m──────────────────────────────\u001b[0m\u001b[31m \u001b[0m\u001b[1;31mTraceback \u001b[0m\u001b[1;2;31m(most recent call last)\u001b[0m\u001b[31m \u001b[0m\u001b[31m───────────────────────────────\u001b[0m\u001b[31m─╮\u001b[0m\n",
       "\u001b[31m│\u001b[0m in \u001b[92m<module>\u001b[0m:\u001b[94m9\u001b[0m                                                                                    \u001b[31m│\u001b[0m\n",
       "\u001b[31m│\u001b[0m                                                                                                  \u001b[31m│\u001b[0m\n",
       "\u001b[31m│\u001b[0m   \u001b[2m 6 \u001b[0m\u001b[94mimport\u001b[0m \u001b[4;96mpickle\u001b[0m                                                                               \u001b[31m│\u001b[0m\n",
       "\u001b[31m│\u001b[0m   \u001b[2m 7 \u001b[0m                                                                                            \u001b[31m│\u001b[0m\n",
       "\u001b[31m│\u001b[0m   \u001b[2m 8 \u001b[0m\u001b[94mimport\u001b[0m \u001b[4;96mpandas\u001b[0m \u001b[94mas\u001b[0m \u001b[4;96mpd\u001b[0m                                                                         \u001b[31m│\u001b[0m\n",
       "\u001b[31m│\u001b[0m \u001b[31m❱ \u001b[0m 9 \u001b[94mfrom\u001b[0m \u001b[4;96mtextgrader\u001b[0m\u001b[4;96m.\u001b[0m\u001b[4;96mpipelines\u001b[0m\u001b[4;96m.\u001b[0m\u001b[4;96mdata_processing\u001b[0m\u001b[4;96m.\u001b[0m\u001b[4;96mconfig\u001b[0m \u001b[94mimport\u001b[0m *                                   \u001b[31m│\u001b[0m\n",
       "\u001b[31m│\u001b[0m   \u001b[2m10 \u001b[0m                                                                                            \u001b[31m│\u001b[0m\n",
       "\u001b[31m│\u001b[0m   \u001b[2m11 \u001b[0m\u001b[94mfrom\u001b[0m \u001b[4;96mxgboost\u001b[0m \u001b[94mimport\u001b[0m XGBRegressor                                                            \u001b[31m│\u001b[0m\n",
       "\u001b[31m│\u001b[0m   \u001b[2m12 \u001b[0m\u001b[94mfrom\u001b[0m \u001b[4;96msklearn\u001b[0m\u001b[4;96m.\u001b[0m\u001b[4;96mmetrics\u001b[0m \u001b[94mimport\u001b[0m cohen_kappa_score                                               \u001b[31m│\u001b[0m\n",
       "\u001b[31m╰──────────────────────────────────────────────────────────────────────────────────────────────────╯\u001b[0m\n",
       "\u001b[1;91mModuleNotFoundError: \u001b[0mNo module named \u001b[32m'textgrader.pipelines.data_processing'\u001b[0m\n"
      ]
     },
     "metadata": {},
     "output_type": "display_data"
    }
   ],
   "source": [
    "%reload_kedro\n",
    "import pandas as pd\n",
    "from sklearn.model_selection import train_test_split\n",
    "from sklearn.feature_extraction.text import TfidfVectorizer\n",
    "import os\n",
    "import pickle\n",
    "\n",
    "import pandas as pd\n",
    "from textgrader.pipelines.data_processing.config import *\n",
    "\n",
    "from xgboost import XGBRegressor\n",
    "from sklearn.metrics import cohen_kappa_score"
   ]
  },
  {
   "cell_type": "code",
   "execution_count": 4,
   "id": "ca3d6854",
   "metadata": {
    "scrolled": true
   },
   "outputs": [
    {
     "data": {
      "text/html": [
       "<pre style=\"white-space:pre;overflow-x:auto;line-height:normal;font-family:Menlo,'DejaVu Sans Mono',consolas,'Courier New',monospace\"><span style=\"color: #7fbfbf; text-decoration-color: #7fbfbf\">[11/02/23 16:36:04] </span><span style=\"color: #000080; text-decoration-color: #000080\">INFO    </span> Loading data from <span style=\"color: #008000; text-decoration-color: #008000\">'all_texts_parquet'</span> <span style=\"font-weight: bold\">(</span>ParquetDataSet<span style=\"font-weight: bold\">)</span><span style=\"color: #808000; text-decoration-color: #808000\">...</span>          <a href=\"file://C:\\Users\\ramon.boucas\\Miniconda3\\lib\\site-packages\\kedro\\io\\data_catalog.py\" target=\"_blank\"><span style=\"color: #7f7f7f; text-decoration-color: #7f7f7f\">data_catalog.py</span></a><span style=\"color: #7f7f7f; text-decoration-color: #7f7f7f\">:</span><a href=\"file://C:\\Users\\ramon.boucas\\Miniconda3\\lib\\site-packages\\kedro\\io\\data_catalog.py#503\" target=\"_blank\"><span style=\"color: #7f7f7f; text-decoration-color: #7f7f7f\">503</span></a>\n",
       "</pre>\n"
      ],
      "text/plain": [
       "\u001b[2;36m[11/02/23 16:36:04]\u001b[0m\u001b[2;36m \u001b[0m\u001b[34mINFO    \u001b[0m Loading data from \u001b[32m'all_texts_parquet'\u001b[0m \u001b[1m(\u001b[0mParquetDataSet\u001b[1m)\u001b[0m\u001b[33m...\u001b[0m          \u001b]8;id=493537;file://C:\\Users\\ramon.boucas\\Miniconda3\\lib\\site-packages\\kedro\\io\\data_catalog.py\u001b\\\u001b[2mdata_catalog.py\u001b[0m\u001b]8;;\u001b\\\u001b[2m:\u001b[0m\u001b]8;id=581677;file://C:\\Users\\ramon.boucas\\Miniconda3\\lib\\site-packages\\kedro\\io\\data_catalog.py#503\u001b\\\u001b[2m503\u001b[0m\u001b]8;;\u001b\\\n"
      ]
     },
     "metadata": {},
     "output_type": "display_data"
    },
    {
     "data": {
      "text/html": [
       "<pre style=\"white-space:pre;overflow-x:auto;line-height:normal;font-family:Menlo,'DejaVu Sans Mono',consolas,'Courier New',monospace\"></pre>\n"
      ],
      "text/plain": []
     },
     "metadata": {},
     "output_type": "display_data"
    },
    {
     "data": {
      "text/html": [
       "<div>\n",
       "<style scoped>\n",
       "    .dataframe tbody tr th:only-of-type {\n",
       "        vertical-align: middle;\n",
       "    }\n",
       "\n",
       "    .dataframe tbody tr th {\n",
       "        vertical-align: top;\n",
       "    }\n",
       "\n",
       "    .dataframe thead th {\n",
       "        text-align: right;\n",
       "    }\n",
       "</style>\n",
       "<table border=\"1\" class=\"dataframe\">\n",
       "  <thead>\n",
       "    <tr style=\"text-align: right;\">\n",
       "      <th></th>\n",
       "      <th>tema</th>\n",
       "      <th>texto</th>\n",
       "      <th>nota</th>\n",
       "      <th>id</th>\n",
       "      <th>competencias</th>\n",
       "    </tr>\n",
       "  </thead>\n",
       "  <tbody>\n",
       "    <tr>\n",
       "      <th>0</th>\n",
       "      <td>1</td>\n",
       "      <td>Recentemente veio à tona na mídia mundial algu...</td>\n",
       "      <td>120.0</td>\n",
       "      <td>19922</td>\n",
       "      <td>[{'competencia': 'Domínio da modalidade escrit...</td>\n",
       "    </tr>\n",
       "    <tr>\n",
       "      <th>1</th>\n",
       "      <td>1</td>\n",
       "      <td>O futebol, considerado o esporte mais popular ...</td>\n",
       "      <td>160.0</td>\n",
       "      <td>19752</td>\n",
       "      <td>[{'competencia': 'Domínio da modalidade escrit...</td>\n",
       "    </tr>\n",
       "    <tr>\n",
       "      <th>2</th>\n",
       "      <td>1</td>\n",
       "      <td>''Nada mais importa. Nem cor, nem dinheiro, ne...</td>\n",
       "      <td>160.0</td>\n",
       "      <td>19926</td>\n",
       "      <td>[{'competencia': 'Domínio da modalidade escrit...</td>\n",
       "    </tr>\n",
       "    <tr>\n",
       "      <th>3</th>\n",
       "      <td>1</td>\n",
       "      <td>Segundo a Constituição federal brasileira de 1...</td>\n",
       "      <td>120.0</td>\n",
       "      <td>19788</td>\n",
       "      <td>[{'competencia': 'Domínio da modalidade escrit...</td>\n",
       "    </tr>\n",
       "    <tr>\n",
       "      <th>4</th>\n",
       "      <td>1</td>\n",
       "      <td>O racismo no futebol é um assunto comum, porém...</td>\n",
       "      <td>160.0</td>\n",
       "      <td>19838</td>\n",
       "      <td>[{'competencia': 'Domínio da modalidade escrit...</td>\n",
       "    </tr>\n",
       "    <tr>\n",
       "      <th>...</th>\n",
       "      <td>...</td>\n",
       "      <td>...</td>\n",
       "      <td>...</td>\n",
       "      <td>...</td>\n",
       "      <td>...</td>\n",
       "    </tr>\n",
       "    <tr>\n",
       "      <th>145</th>\n",
       "      <td>99</td>\n",
       "      <td>O Brasil atualmente tem um índice de violência...</td>\n",
       "      <td>8.5</td>\n",
       "      <td>9414</td>\n",
       "      <td>[{'competencia': 'Adequação ao Tema', 'motivo'...</td>\n",
       "    </tr>\n",
       "    <tr>\n",
       "      <th>146</th>\n",
       "      <td>99</td>\n",
       "      <td>A PEC  que visa a redução da maioridade penal ...</td>\n",
       "      <td>8.0</td>\n",
       "      <td>9533</td>\n",
       "      <td>[{'competencia': 'Adequação ao Tema', 'motivo'...</td>\n",
       "    </tr>\n",
       "    <tr>\n",
       "      <th>147</th>\n",
       "      <td>99</td>\n",
       "      <td>Atualmente no Brasil muitos jovens menores de ...</td>\n",
       "      <td>7.5</td>\n",
       "      <td>9506</td>\n",
       "      <td>[{'competencia': 'Adequação ao Tema', 'motivo'...</td>\n",
       "    </tr>\n",
       "    <tr>\n",
       "      <th>148</th>\n",
       "      <td>99</td>\n",
       "      <td>O Brasil está entre os países mais violentos d...</td>\n",
       "      <td>6.5</td>\n",
       "      <td>9515</td>\n",
       "      <td>[{'competencia': 'Adequação ao Tema', 'motivo'...</td>\n",
       "    </tr>\n",
       "    <tr>\n",
       "      <th>149</th>\n",
       "      <td>99</td>\n",
       "      <td>As formas de violência tendem a se modificarem...</td>\n",
       "      <td>8.0</td>\n",
       "      <td>9539</td>\n",
       "      <td>[{'competencia': 'Adequação ao Tema', 'motivo'...</td>\n",
       "    </tr>\n",
       "  </tbody>\n",
       "</table>\n",
       "<p>16996 rows × 5 columns</p>\n",
       "</div>"
      ],
      "text/plain": [
       "\n",
       "     tema                                              texto   nota     id  \\\n",
       "\u001b[1;36m0\u001b[0m       \u001b[1;36m1\u001b[0m  Recentemente veio à tona na mídia mundial algu\u001b[33m...\u001b[0m  \u001b[1;36m120.0\u001b[0m  \u001b[1;36m19922\u001b[0m   \n",
       "\u001b[1;36m1\u001b[0m       \u001b[1;36m1\u001b[0m  O futebol, considerado o esporte mais popular \u001b[33m...\u001b[0m  \u001b[1;36m160.0\u001b[0m  \u001b[1;36m19752\u001b[0m   \n",
       "\u001b[1;36m2\u001b[0m       \u001b[1;36m1\u001b[0m  \u001b[32m''\u001b[0mNada mais importa. Nem cor, nem dinheiro, ne\u001b[33m...\u001b[0m  \u001b[1;36m160.0\u001b[0m  \u001b[1;36m19926\u001b[0m   \n",
       "\u001b[1;36m3\u001b[0m       \u001b[1;36m1\u001b[0m  Segundo a Constituição federal brasileira de \u001b[1;36m1\u001b[0m\u001b[33m...\u001b[0m  \u001b[1;36m120.0\u001b[0m  \u001b[1;36m19788\u001b[0m   \n",
       "\u001b[1;36m4\u001b[0m       \u001b[1;36m1\u001b[0m  O racismo no futebol é um assunto comum, porém\u001b[33m...\u001b[0m  \u001b[1;36m160.0\u001b[0m  \u001b[1;36m19838\u001b[0m   \n",
       "..    \u001b[33m...\u001b[0m                                                \u001b[33m...\u001b[0m    \u001b[33m...\u001b[0m    \u001b[33m...\u001b[0m   \n",
       "\u001b[1;36m145\u001b[0m    \u001b[1;36m99\u001b[0m  O Brasil atualmente tem um índice de violência\u001b[33m...\u001b[0m    \u001b[1;36m8.5\u001b[0m   \u001b[1;36m9414\u001b[0m   \n",
       "\u001b[1;36m146\u001b[0m    \u001b[1;36m99\u001b[0m  A PEC  que visa a redução da maioridade penal \u001b[33m...\u001b[0m    \u001b[1;36m8.0\u001b[0m   \u001b[1;36m9533\u001b[0m   \n",
       "\u001b[1;36m147\u001b[0m    \u001b[1;36m99\u001b[0m  Atualmente no Brasil muitos jovens menores de \u001b[33m...\u001b[0m    \u001b[1;36m7.5\u001b[0m   \u001b[1;36m9506\u001b[0m   \n",
       "\u001b[1;36m148\u001b[0m    \u001b[1;36m99\u001b[0m  O Brasil está entre os países mais violentos d\u001b[33m...\u001b[0m    \u001b[1;36m6.5\u001b[0m   \u001b[1;36m9515\u001b[0m   \n",
       "\u001b[1;36m149\u001b[0m    \u001b[1;36m99\u001b[0m  As formas de violência tendem a se modificarem\u001b[33m...\u001b[0m    \u001b[1;36m8.0\u001b[0m   \u001b[1;36m9539\u001b[0m   \n",
       "\n",
       "                                          competencias  \n",
       "\u001b[1;36m0\u001b[0m    \u001b[1m[\u001b[0m\u001b[1m{\u001b[0m\u001b[32m'competencia'\u001b[0m: 'Domínio da modalidade escrit\u001b[33m...\u001b[0m  \n",
       "\u001b[1;36m1\u001b[0m    \u001b[1m[\u001b[0m\u001b[1m{\u001b[0m\u001b[32m'competencia'\u001b[0m: 'Domínio da modalidade escrit\u001b[33m...\u001b[0m  \n",
       "\u001b[1;36m2\u001b[0m    \u001b[1m[\u001b[0m\u001b[1m{\u001b[0m\u001b[32m'competencia'\u001b[0m: 'Domínio da modalidade escrit\u001b[33m...\u001b[0m  \n",
       "\u001b[1;36m3\u001b[0m    \u001b[1m[\u001b[0m\u001b[1m{\u001b[0m\u001b[32m'competencia'\u001b[0m: 'Domínio da modalidade escrit\u001b[33m...\u001b[0m  \n",
       "\u001b[1;36m4\u001b[0m    \u001b[1m[\u001b[0m\u001b[1m{\u001b[0m\u001b[32m'competencia'\u001b[0m: 'Domínio da modalidade escrit\u001b[33m...\u001b[0m  \n",
       "..                                                 \u001b[33m...\u001b[0m  \n",
       "\u001b[1;36m145\u001b[0m  \u001b[1m[\u001b[0m\u001b[1m{\u001b[0m\u001b[32m'competencia'\u001b[0m: \u001b[32m'Adequação ao Tema'\u001b[0m, \u001b[32m'motivo'\u001b[0m\u001b[33m...\u001b[0m  \n",
       "\u001b[1;36m146\u001b[0m  \u001b[1m[\u001b[0m\u001b[1m{\u001b[0m\u001b[32m'competencia'\u001b[0m: \u001b[32m'Adequação ao Tema'\u001b[0m, \u001b[32m'motivo'\u001b[0m\u001b[33m...\u001b[0m  \n",
       "\u001b[1;36m147\u001b[0m  \u001b[1m[\u001b[0m\u001b[1m{\u001b[0m\u001b[32m'competencia'\u001b[0m: \u001b[32m'Adequação ao Tema'\u001b[0m, \u001b[32m'motivo'\u001b[0m\u001b[33m...\u001b[0m  \n",
       "\u001b[1;36m148\u001b[0m  \u001b[1m[\u001b[0m\u001b[1m{\u001b[0m\u001b[32m'competencia'\u001b[0m: \u001b[32m'Adequação ao Tema'\u001b[0m, \u001b[32m'motivo'\u001b[0m\u001b[33m...\u001b[0m  \n",
       "\u001b[1;36m149\u001b[0m  \u001b[1m[\u001b[0m\u001b[1m{\u001b[0m\u001b[32m'competencia'\u001b[0m: \u001b[32m'Adequação ao Tema'\u001b[0m, \u001b[32m'motivo'\u001b[0m\u001b[33m...\u001b[0m  \n",
       "\n",
       "\u001b[1m[\u001b[0m\u001b[1;36m16996\u001b[0m rows x \u001b[1;36m5\u001b[0m columns\u001b[1m]\u001b[0m"
      ]
     },
     "execution_count": 4,
     "metadata": {},
     "output_type": "execute_result"
    }
   ],
   "source": [
    "df = catalog.load('all_texts_parquet')\n",
    "df"
   ]
  },
  {
   "cell_type": "code",
   "execution_count": 7,
   "id": "985a8f16",
   "metadata": {},
   "outputs": [
    {
     "data": {
      "text/html": [
       "<pre style=\"white-space:pre;overflow-x:auto;line-height:normal;font-family:Menlo,'DejaVu Sans Mono',consolas,'Courier New',monospace\"></pre>\n"
      ],
      "text/plain": []
     },
     "metadata": {},
     "output_type": "display_data"
    },
    {
     "data": {
      "text/html": [
       "<div>\n",
       "<style scoped>\n",
       "    .dataframe tbody tr th:only-of-type {\n",
       "        vertical-align: middle;\n",
       "    }\n",
       "\n",
       "    .dataframe tbody tr th {\n",
       "        vertical-align: top;\n",
       "    }\n",
       "\n",
       "    .dataframe thead th {\n",
       "        text-align: right;\n",
       "    }\n",
       "</style>\n",
       "<table border=\"1\" class=\"dataframe\">\n",
       "  <thead>\n",
       "    <tr style=\"text-align: right;\">\n",
       "      <th></th>\n",
       "      <th>0</th>\n",
       "      <th>1</th>\n",
       "      <th>2</th>\n",
       "      <th>3</th>\n",
       "      <th>4</th>\n",
       "      <th>5</th>\n",
       "    </tr>\n",
       "  </thead>\n",
       "  <tbody>\n",
       "    <tr>\n",
       "      <th>0</th>\n",
       "      <td>{'competencia': 'Domínio da modalidade escrita...</td>\n",
       "      <td>{'competencia': 'Compreender a proposta e apli...</td>\n",
       "      <td>{'competencia': 'Selecionar, relacionar, organ...</td>\n",
       "      <td>{'competencia': 'Conhecimento dos mecanismos l...</td>\n",
       "      <td>{'competencia': 'Proposta de intervenção com r...</td>\n",
       "      <td>None</td>\n",
       "    </tr>\n",
       "    <tr>\n",
       "      <th>1</th>\n",
       "      <td>{'competencia': 'Domínio da modalidade escrita...</td>\n",
       "      <td>{'competencia': 'Compreender a proposta e apli...</td>\n",
       "      <td>{'competencia': 'Selecionar, relacionar, organ...</td>\n",
       "      <td>{'competencia': 'Conhecimento dos mecanismos l...</td>\n",
       "      <td>{'competencia': 'Proposta de intervenção com r...</td>\n",
       "      <td>None</td>\n",
       "    </tr>\n",
       "    <tr>\n",
       "      <th>2</th>\n",
       "      <td>{'competencia': 'Domínio da modalidade escrita...</td>\n",
       "      <td>{'competencia': 'Compreender a proposta e apli...</td>\n",
       "      <td>{'competencia': 'Selecionar, relacionar, organ...</td>\n",
       "      <td>{'competencia': 'Conhecimento dos mecanismos l...</td>\n",
       "      <td>{'competencia': 'Proposta de intervenção com r...</td>\n",
       "      <td>None</td>\n",
       "    </tr>\n",
       "    <tr>\n",
       "      <th>3</th>\n",
       "      <td>{'competencia': 'Domínio da modalidade escrita...</td>\n",
       "      <td>{'competencia': 'Compreender a proposta e apli...</td>\n",
       "      <td>{'competencia': 'Selecionar, relacionar, organ...</td>\n",
       "      <td>{'competencia': 'Conhecimento dos mecanismos l...</td>\n",
       "      <td>{'competencia': 'Proposta de intervenção com r...</td>\n",
       "      <td>None</td>\n",
       "    </tr>\n",
       "    <tr>\n",
       "      <th>4</th>\n",
       "      <td>{'competencia': 'Domínio da modalidade escrita...</td>\n",
       "      <td>{'competencia': 'Compreender a proposta e apli...</td>\n",
       "      <td>{'competencia': 'Selecionar, relacionar, organ...</td>\n",
       "      <td>{'competencia': 'Conhecimento dos mecanismos l...</td>\n",
       "      <td>{'competencia': 'Proposta de intervenção com r...</td>\n",
       "      <td>None</td>\n",
       "    </tr>\n",
       "    <tr>\n",
       "      <th>...</th>\n",
       "      <td>...</td>\n",
       "      <td>...</td>\n",
       "      <td>...</td>\n",
       "      <td>...</td>\n",
       "      <td>...</td>\n",
       "      <td>...</td>\n",
       "    </tr>\n",
       "    <tr>\n",
       "      <th>16991</th>\n",
       "      <td>{'competencia': 'Adequação ao Tema', 'motivo':...</td>\n",
       "      <td>{'competencia': 'Adequação e Leitura Crítica d...</td>\n",
       "      <td>{'competencia': 'Adequação ao Gênero Textual',...</td>\n",
       "      <td>{'competencia': 'Adequação à modalidade padrão...</td>\n",
       "      <td>{'competencia': 'Coesão e Coerência', 'motivo'...</td>\n",
       "      <td>{'competencia': '- Ruim', 'motivo': '- Bom', '...</td>\n",
       "    </tr>\n",
       "    <tr>\n",
       "      <th>16992</th>\n",
       "      <td>{'competencia': 'Adequação ao Tema', 'motivo':...</td>\n",
       "      <td>{'competencia': 'Adequação e Leitura Crítica d...</td>\n",
       "      <td>{'competencia': 'Adequação ao Gênero Textual',...</td>\n",
       "      <td>{'competencia': 'Adequação à modalidade padrão...</td>\n",
       "      <td>{'competencia': 'Coesão e Coerência', 'motivo'...</td>\n",
       "      <td>{'competencia': '- Ruim', 'motivo': '- Bom', '...</td>\n",
       "    </tr>\n",
       "    <tr>\n",
       "      <th>16993</th>\n",
       "      <td>{'competencia': 'Adequação ao Tema', 'motivo':...</td>\n",
       "      <td>{'competencia': 'Adequação e Leitura Crítica d...</td>\n",
       "      <td>{'competencia': 'Adequação ao Gênero Textual',...</td>\n",
       "      <td>{'competencia': 'Adequação à modalidade padrão...</td>\n",
       "      <td>{'competencia': 'Coesão e Coerência', 'motivo'...</td>\n",
       "      <td>{'competencia': '- Ruim', 'motivo': '- Bom', '...</td>\n",
       "    </tr>\n",
       "    <tr>\n",
       "      <th>16994</th>\n",
       "      <td>{'competencia': 'Adequação ao Tema', 'motivo':...</td>\n",
       "      <td>{'competencia': 'Adequação e Leitura Crítica d...</td>\n",
       "      <td>{'competencia': 'Adequação ao Gênero Textual',...</td>\n",
       "      <td>{'competencia': 'Adequação à modalidade padrão...</td>\n",
       "      <td>{'competencia': 'Coesão e Coerência', 'motivo'...</td>\n",
       "      <td>{'competencia': '- Ruim', 'motivo': '- Bom', '...</td>\n",
       "    </tr>\n",
       "    <tr>\n",
       "      <th>16995</th>\n",
       "      <td>{'competencia': 'Adequação ao Tema', 'motivo':...</td>\n",
       "      <td>{'competencia': 'Adequação e Leitura Crítica d...</td>\n",
       "      <td>{'competencia': 'Adequação ao Gênero Textual',...</td>\n",
       "      <td>{'competencia': 'Adequação à modalidade padrão...</td>\n",
       "      <td>{'competencia': 'Coesão e Coerência', 'motivo'...</td>\n",
       "      <td>{'competencia': '- Ruim', 'motivo': '- Bom', '...</td>\n",
       "    </tr>\n",
       "  </tbody>\n",
       "</table>\n",
       "<p>16996 rows × 6 columns</p>\n",
       "</div>"
      ],
      "text/plain": [
       "\n",
       "                                                       \u001b[1;36m0\u001b[0m  \\\n",
       "\u001b[1;36m0\u001b[0m      \u001b[1m{\u001b[0m\u001b[32m'competencia'\u001b[0m: 'Domínio da modalidade escrita\u001b[33m...\u001b[0m   \n",
       "\u001b[1;36m1\u001b[0m      \u001b[1m{\u001b[0m\u001b[32m'competencia'\u001b[0m: 'Domínio da modalidade escrita\u001b[33m...\u001b[0m   \n",
       "\u001b[1;36m2\u001b[0m      \u001b[1m{\u001b[0m\u001b[32m'competencia'\u001b[0m: 'Domínio da modalidade escrita\u001b[33m...\u001b[0m   \n",
       "\u001b[1;36m3\u001b[0m      \u001b[1m{\u001b[0m\u001b[32m'competencia'\u001b[0m: 'Domínio da modalidade escrita\u001b[33m...\u001b[0m   \n",
       "\u001b[1;36m4\u001b[0m      \u001b[1m{\u001b[0m\u001b[32m'competencia'\u001b[0m: 'Domínio da modalidade escrita\u001b[33m...\u001b[0m   \n",
       "\u001b[33m...\u001b[0m                                                  \u001b[33m...\u001b[0m   \n",
       "\u001b[1;36m16991\u001b[0m  \u001b[1m{\u001b[0m\u001b[32m'competencia'\u001b[0m: \u001b[32m'Adequação ao Tema'\u001b[0m, \u001b[32m'motivo'\u001b[0m:\u001b[33m...\u001b[0m   \n",
       "\u001b[1;36m16992\u001b[0m  \u001b[1m{\u001b[0m\u001b[32m'competencia'\u001b[0m: \u001b[32m'Adequação ao Tema'\u001b[0m, \u001b[32m'motivo'\u001b[0m:\u001b[33m...\u001b[0m   \n",
       "\u001b[1;36m16993\u001b[0m  \u001b[1m{\u001b[0m\u001b[32m'competencia'\u001b[0m: \u001b[32m'Adequação ao Tema'\u001b[0m, \u001b[32m'motivo'\u001b[0m:\u001b[33m...\u001b[0m   \n",
       "\u001b[1;36m16994\u001b[0m  \u001b[1m{\u001b[0m\u001b[32m'competencia'\u001b[0m: \u001b[32m'Adequação ao Tema'\u001b[0m, \u001b[32m'motivo'\u001b[0m:\u001b[33m...\u001b[0m   \n",
       "\u001b[1;36m16995\u001b[0m  \u001b[1m{\u001b[0m\u001b[32m'competencia'\u001b[0m: \u001b[32m'Adequação ao Tema'\u001b[0m, \u001b[32m'motivo'\u001b[0m:\u001b[33m...\u001b[0m   \n",
       "\n",
       "                                                       \u001b[1;36m1\u001b[0m  \\\n",
       "\u001b[1;36m0\u001b[0m      \u001b[1m{\u001b[0m\u001b[32m'competencia'\u001b[0m: 'Compreender a proposta e apli\u001b[33m...\u001b[0m   \n",
       "\u001b[1;36m1\u001b[0m      \u001b[1m{\u001b[0m\u001b[32m'competencia'\u001b[0m: 'Compreender a proposta e apli\u001b[33m...\u001b[0m   \n",
       "\u001b[1;36m2\u001b[0m      \u001b[1m{\u001b[0m\u001b[32m'competencia'\u001b[0m: 'Compreender a proposta e apli\u001b[33m...\u001b[0m   \n",
       "\u001b[1;36m3\u001b[0m      \u001b[1m{\u001b[0m\u001b[32m'competencia'\u001b[0m: 'Compreender a proposta e apli\u001b[33m...\u001b[0m   \n",
       "\u001b[1;36m4\u001b[0m      \u001b[1m{\u001b[0m\u001b[32m'competencia'\u001b[0m: 'Compreender a proposta e apli\u001b[33m...\u001b[0m   \n",
       "\u001b[33m...\u001b[0m                                                  \u001b[33m...\u001b[0m   \n",
       "\u001b[1;36m16991\u001b[0m  \u001b[1m{\u001b[0m\u001b[32m'competencia'\u001b[0m: 'Adequação e Leitura Crítica d\u001b[33m...\u001b[0m   \n",
       "\u001b[1;36m16992\u001b[0m  \u001b[1m{\u001b[0m\u001b[32m'competencia'\u001b[0m: 'Adequação e Leitura Crítica d\u001b[33m...\u001b[0m   \n",
       "\u001b[1;36m16993\u001b[0m  \u001b[1m{\u001b[0m\u001b[32m'competencia'\u001b[0m: 'Adequação e Leitura Crítica d\u001b[33m...\u001b[0m   \n",
       "\u001b[1;36m16994\u001b[0m  \u001b[1m{\u001b[0m\u001b[32m'competencia'\u001b[0m: 'Adequação e Leitura Crítica d\u001b[33m...\u001b[0m   \n",
       "\u001b[1;36m16995\u001b[0m  \u001b[1m{\u001b[0m\u001b[32m'competencia'\u001b[0m: 'Adequação e Leitura Crítica d\u001b[33m...\u001b[0m   \n",
       "\n",
       "                                                       \u001b[1;36m2\u001b[0m  \\\n",
       "\u001b[1;36m0\u001b[0m      \u001b[1m{\u001b[0m\u001b[32m'competencia'\u001b[0m: 'Selecionar, relacionar, organ\u001b[33m...\u001b[0m   \n",
       "\u001b[1;36m1\u001b[0m      \u001b[1m{\u001b[0m\u001b[32m'competencia'\u001b[0m: 'Selecionar, relacionar, organ\u001b[33m...\u001b[0m   \n",
       "\u001b[1;36m2\u001b[0m      \u001b[1m{\u001b[0m\u001b[32m'competencia'\u001b[0m: 'Selecionar, relacionar, organ\u001b[33m...\u001b[0m   \n",
       "\u001b[1;36m3\u001b[0m      \u001b[1m{\u001b[0m\u001b[32m'competencia'\u001b[0m: 'Selecionar, relacionar, organ\u001b[33m...\u001b[0m   \n",
       "\u001b[1;36m4\u001b[0m      \u001b[1m{\u001b[0m\u001b[32m'competencia'\u001b[0m: 'Selecionar, relacionar, organ\u001b[33m...\u001b[0m   \n",
       "\u001b[33m...\u001b[0m                                                  \u001b[33m...\u001b[0m   \n",
       "\u001b[1;36m16991\u001b[0m  \u001b[1m{\u001b[0m\u001b[32m'competencia'\u001b[0m: \u001b[32m'Adequação ao Gênero Textual'\u001b[0m,\u001b[33m...\u001b[0m   \n",
       "\u001b[1;36m16992\u001b[0m  \u001b[1m{\u001b[0m\u001b[32m'competencia'\u001b[0m: \u001b[32m'Adequação ao Gênero Textual'\u001b[0m,\u001b[33m...\u001b[0m   \n",
       "\u001b[1;36m16993\u001b[0m  \u001b[1m{\u001b[0m\u001b[32m'competencia'\u001b[0m: \u001b[32m'Adequação ao Gênero Textual'\u001b[0m,\u001b[33m...\u001b[0m   \n",
       "\u001b[1;36m16994\u001b[0m  \u001b[1m{\u001b[0m\u001b[32m'competencia'\u001b[0m: \u001b[32m'Adequação ao Gênero Textual'\u001b[0m,\u001b[33m...\u001b[0m   \n",
       "\u001b[1;36m16995\u001b[0m  \u001b[1m{\u001b[0m\u001b[32m'competencia'\u001b[0m: \u001b[32m'Adequação ao Gênero Textual'\u001b[0m,\u001b[33m...\u001b[0m   \n",
       "\n",
       "                                                       \u001b[1;36m3\u001b[0m  \\\n",
       "\u001b[1;36m0\u001b[0m      \u001b[1m{\u001b[0m\u001b[32m'competencia'\u001b[0m: 'Conhecimento dos mecanismos l\u001b[33m...\u001b[0m   \n",
       "\u001b[1;36m1\u001b[0m      \u001b[1m{\u001b[0m\u001b[32m'competencia'\u001b[0m: 'Conhecimento dos mecanismos l\u001b[33m...\u001b[0m   \n",
       "\u001b[1;36m2\u001b[0m      \u001b[1m{\u001b[0m\u001b[32m'competencia'\u001b[0m: 'Conhecimento dos mecanismos l\u001b[33m...\u001b[0m   \n",
       "\u001b[1;36m3\u001b[0m      \u001b[1m{\u001b[0m\u001b[32m'competencia'\u001b[0m: 'Conhecimento dos mecanismos l\u001b[33m...\u001b[0m   \n",
       "\u001b[1;36m4\u001b[0m      \u001b[1m{\u001b[0m\u001b[32m'competencia'\u001b[0m: 'Conhecimento dos mecanismos l\u001b[33m...\u001b[0m   \n",
       "\u001b[33m...\u001b[0m                                                  \u001b[33m...\u001b[0m   \n",
       "\u001b[1;36m16991\u001b[0m  \u001b[1m{\u001b[0m\u001b[32m'competencia'\u001b[0m: 'Adequação à modalidade padrão\u001b[33m...\u001b[0m   \n",
       "\u001b[1;36m16992\u001b[0m  \u001b[1m{\u001b[0m\u001b[32m'competencia'\u001b[0m: 'Adequação à modalidade padrão\u001b[33m...\u001b[0m   \n",
       "\u001b[1;36m16993\u001b[0m  \u001b[1m{\u001b[0m\u001b[32m'competencia'\u001b[0m: 'Adequação à modalidade padrão\u001b[33m...\u001b[0m   \n",
       "\u001b[1;36m16994\u001b[0m  \u001b[1m{\u001b[0m\u001b[32m'competencia'\u001b[0m: 'Adequação à modalidade padrão\u001b[33m...\u001b[0m   \n",
       "\u001b[1;36m16995\u001b[0m  \u001b[1m{\u001b[0m\u001b[32m'competencia'\u001b[0m: 'Adequação à modalidade padrão\u001b[33m...\u001b[0m   \n",
       "\n",
       "                                                       \u001b[1;36m4\u001b[0m  \\\n",
       "\u001b[1;36m0\u001b[0m      \u001b[1m{\u001b[0m\u001b[32m'competencia'\u001b[0m: 'Proposta de intervenção com r\u001b[33m...\u001b[0m   \n",
       "\u001b[1;36m1\u001b[0m      \u001b[1m{\u001b[0m\u001b[32m'competencia'\u001b[0m: 'Proposta de intervenção com r\u001b[33m...\u001b[0m   \n",
       "\u001b[1;36m2\u001b[0m      \u001b[1m{\u001b[0m\u001b[32m'competencia'\u001b[0m: 'Proposta de intervenção com r\u001b[33m...\u001b[0m   \n",
       "\u001b[1;36m3\u001b[0m      \u001b[1m{\u001b[0m\u001b[32m'competencia'\u001b[0m: 'Proposta de intervenção com r\u001b[33m...\u001b[0m   \n",
       "\u001b[1;36m4\u001b[0m      \u001b[1m{\u001b[0m\u001b[32m'competencia'\u001b[0m: 'Proposta de intervenção com r\u001b[33m...\u001b[0m   \n",
       "\u001b[33m...\u001b[0m                                                  \u001b[33m...\u001b[0m   \n",
       "\u001b[1;36m16991\u001b[0m  \u001b[1m{\u001b[0m\u001b[32m'competencia'\u001b[0m: \u001b[32m'Coesão e Coerência'\u001b[0m, \u001b[32m'motivo'\u001b[0m\u001b[33m...\u001b[0m   \n",
       "\u001b[1;36m16992\u001b[0m  \u001b[1m{\u001b[0m\u001b[32m'competencia'\u001b[0m: \u001b[32m'Coesão e Coerência'\u001b[0m, \u001b[32m'motivo'\u001b[0m\u001b[33m...\u001b[0m   \n",
       "\u001b[1;36m16993\u001b[0m  \u001b[1m{\u001b[0m\u001b[32m'competencia'\u001b[0m: \u001b[32m'Coesão e Coerência'\u001b[0m, \u001b[32m'motivo'\u001b[0m\u001b[33m...\u001b[0m   \n",
       "\u001b[1;36m16994\u001b[0m  \u001b[1m{\u001b[0m\u001b[32m'competencia'\u001b[0m: \u001b[32m'Coesão e Coerência'\u001b[0m, \u001b[32m'motivo'\u001b[0m\u001b[33m...\u001b[0m   \n",
       "\u001b[1;36m16995\u001b[0m  \u001b[1m{\u001b[0m\u001b[32m'competencia'\u001b[0m: \u001b[32m'Coesão e Coerência'\u001b[0m, \u001b[32m'motivo'\u001b[0m\u001b[33m...\u001b[0m   \n",
       "\n",
       "                                                       \u001b[1;36m5\u001b[0m  \n",
       "\u001b[1;36m0\u001b[0m                                                   \u001b[3;35mNone\u001b[0m  \n",
       "\u001b[1;36m1\u001b[0m                                                   \u001b[3;35mNone\u001b[0m  \n",
       "\u001b[1;36m2\u001b[0m                                                   \u001b[3;35mNone\u001b[0m  \n",
       "\u001b[1;36m3\u001b[0m                                                   \u001b[3;35mNone\u001b[0m  \n",
       "\u001b[1;36m4\u001b[0m                                                   \u001b[3;35mNone\u001b[0m  \n",
       "\u001b[33m...\u001b[0m                                                  \u001b[33m...\u001b[0m  \n",
       "\u001b[1;36m16991\u001b[0m  \u001b[1m{\u001b[0m\u001b[32m'competencia'\u001b[0m: \u001b[32m'- Ruim'\u001b[0m, \u001b[32m'motivo'\u001b[0m: \u001b[32m'- Bom'\u001b[0m, '\u001b[33m...\u001b[0m  \n",
       "\u001b[1;36m16992\u001b[0m  \u001b[1m{\u001b[0m\u001b[32m'competencia'\u001b[0m: \u001b[32m'- Ruim'\u001b[0m, \u001b[32m'motivo'\u001b[0m: \u001b[32m'- Bom'\u001b[0m, '\u001b[33m...\u001b[0m  \n",
       "\u001b[1;36m16993\u001b[0m  \u001b[1m{\u001b[0m\u001b[32m'competencia'\u001b[0m: \u001b[32m'- Ruim'\u001b[0m, \u001b[32m'motivo'\u001b[0m: \u001b[32m'- Bom'\u001b[0m, '\u001b[33m...\u001b[0m  \n",
       "\u001b[1;36m16994\u001b[0m  \u001b[1m{\u001b[0m\u001b[32m'competencia'\u001b[0m: \u001b[32m'- Ruim'\u001b[0m, \u001b[32m'motivo'\u001b[0m: \u001b[32m'- Bom'\u001b[0m, '\u001b[33m...\u001b[0m  \n",
       "\u001b[1;36m16995\u001b[0m  \u001b[1m{\u001b[0m\u001b[32m'competencia'\u001b[0m: \u001b[32m'- Ruim'\u001b[0m, \u001b[32m'motivo'\u001b[0m: \u001b[32m'- Bom'\u001b[0m, '\u001b[33m...\u001b[0m  \n",
       "\n",
       "\u001b[1m[\u001b[0m\u001b[1;36m16996\u001b[0m rows x \u001b[1;36m6\u001b[0m columns\u001b[1m]\u001b[0m"
      ]
     },
     "execution_count": 7,
     "metadata": {},
     "output_type": "execute_result"
    }
   ],
   "source": [
    "df_competencias = pd.DataFrame(df['competencias'].to_list())\n",
    "    \n",
    "lista_competencias = df_competencias\n",
    "lista_competencias"
   ]
  },
  {
   "cell_type": "code",
   "execution_count": 17,
   "id": "0047b546",
   "metadata": {},
   "outputs": [
    {
     "data": {
      "text/html": [
       "<pre style=\"white-space:pre;overflow-x:auto;line-height:normal;font-family:Menlo,'DejaVu Sans Mono',consolas,'Courier New',monospace\"></pre>\n"
      ],
      "text/plain": []
     },
     "metadata": {},
     "output_type": "display_data"
    },
    {
     "data": {
      "text/plain": [
       "\n",
       "\u001b[1;35marray\u001b[0m\u001b[1m(\u001b[0m\u001b[1m[\u001b[0m\u001b[1m{\u001b[0m\u001b[32m'competencia'\u001b[0m: \u001b[32m'Domínio da modalidade escrita formal'\u001b[0m, \u001b[32m'motivo'\u001b[0m: \u001b[32m'Nível 3 - Demonstra domínio mediano da modalidade escrita formal da língua portuguesa e de escolha de registro, com alguns desvios gramaticais e de convenções da escrita.'\u001b[0m, \u001b[32m'nota'\u001b[0m: \u001b[32m'120'\u001b[0m\u001b[1m}\u001b[0m,\n",
       "       \u001b[1m{\u001b[0m\u001b[32m'competencia'\u001b[0m: \u001b[32m'Compreender a proposta e aplicar conceitos das várias áreas de conhecimento para desenvolver o texto dissertativo-argumentativo em prosa'\u001b[0m, \u001b[32m'motivo'\u001b[0m: \u001b[32m'Nível 3 - Desenvolve o tema por meio de argumentação previsível e apresenta domínio mediano do texto dissertativo-argumentativo, com proposição, argumentação e conclusão.'\u001b[0m, \u001b[32m'nota'\u001b[0m: \u001b[32m'120'\u001b[0m\u001b[1m}\u001b[0m,\n",
       "       \u001b[1m{\u001b[0m\u001b[32m'competencia'\u001b[0m: \u001b[32m'Selecionar, relacionar, organizar e interpretar informações em defesa de um ponto de vista'\u001b[0m, \u001b[32m'motivo'\u001b[0m: \u001b[32m'Nível 2 - Apresenta informações, fatos e opiniões relacionados ao tema, mas desorganizados ou contraditórios e limitados aos argumentos dos textos motivadores, em defesa de um ponto de vista.'\u001b[0m, \u001b[32m'nota'\u001b[0m: \u001b[32m'80'\u001b[0m\u001b[1m}\u001b[0m,\n",
       "       \u001b[1m{\u001b[0m\u001b[32m'competencia'\u001b[0m: \u001b[32m'Conhecimento dos mecanismos linguísticos necessários para a construção da argumentação'\u001b[0m, \u001b[32m'motivo'\u001b[0m: \u001b[32m'Nível 3 - Articula as partes do texto, de forma mediana, com inadequações, e apresenta repertório pouco diversificado de recursos coesivos.'\u001b[0m, \u001b[32m'nota'\u001b[0m: \u001b[32m'120'\u001b[0m\u001b[1m}\u001b[0m,\n",
       "       \u001b[1m{\u001b[0m\u001b[32m'competencia'\u001b[0m: \u001b[32m'Proposta de intervenção com respeito aos direitos humanos'\u001b[0m, \u001b[32m'motivo'\u001b[0m: \u001b[32m'Nível 2 - Elabora, de forma insuficiente, proposta de intervenção relacionada ao tema, ou não articulada com a discussão desenvolvida no texto.'\u001b[0m, \u001b[32m'nota'\u001b[0m: \u001b[32m'80'\u001b[0m\u001b[1m}\u001b[0m\u001b[1m]\u001b[0m,\n",
       "      \u001b[33mdtype\u001b[0m=\u001b[35mobject\u001b[0m\u001b[1m)\u001b[0m"
      ]
     },
     "execution_count": 17,
     "metadata": {},
     "output_type": "execute_result"
    }
   ],
   "source": [
    "test = df['competencias'].reset_index()\n",
    "test['competencias'][0]"
   ]
  },
  {
   "cell_type": "code",
   "execution_count": null,
   "id": "1cf52fd8",
   "metadata": {},
   "outputs": [],
   "source": []
  }
 ],
 "metadata": {
  "kernelspec": {
   "display_name": "Kedro (textgrader)",
   "language": "python",
   "name": "kedro_textgrader"
  },
  "language_info": {
   "codemirror_mode": {
    "name": "ipython",
    "version": 3
   },
   "file_extension": ".py",
   "mimetype": "text/x-python",
   "name": "python",
   "nbconvert_exporter": "python",
   "pygments_lexer": "ipython3",
   "version": "3.7.13"
  }
 },
 "nbformat": 4,
 "nbformat_minor": 5
}
